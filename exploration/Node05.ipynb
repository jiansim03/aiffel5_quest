{
 "cells": [
  {
   "cell_type": "markdown",
   "metadata": {},
   "source": [
    "# 5. 인물사진을 만들어 보자"
   ]
  },
  {
   "cell_type": "markdown",
   "metadata": {},
   "source": [
    "## 5-1. 들어가며\n",
    "\n",
    "![](https://d3s0tskafalll9.cloudfront.net/media/images/E-14-1.max-800x600_0LGfOrF.png)\n",
    "\n",
    "[인물사진 모드 예시 (출처: https://pixabay.com/ko/photos/아기-소녀-절전-모드-어린이-1151351/)]"
   ]
  },
  {
   "cell_type": "markdown",
   "metadata": {},
   "source": [
    "피사체를 가깝게 찍을 때 배경이 흐려지는 효과를 경험해 보신 적이 있으신가요? 보통은 DSLR이나 미러리스 같은 전문적인 카메라와 렌즈에서 만들어 내기 쉬운 효과입니다. 하지만 피사체를 충분히 가까운 거리에 두고 촬영한다면 핸드폰 카메라에서도 비슷한 효과를 낼 수 있습니다.\n",
    "\n",
    "특히 2개 이상의 렌즈를 탑재한 최신 핸드폰에서는 '인물사진 모드(portrait mode)' 가 지원됩니다.\n",
    "\n",
    "Phone에서 인물 사진 모드 사용하기\n",
    "\n",
    "https://support.apple.com/ko-kr/HT208118"
   ]
  },
  {
   "cell_type": "markdown",
   "metadata": {},
   "source": [
    "핸드폰 카메라의 인물사진 모드는 듀얼 카메라를 이용해 DSLR의 아웃포커싱 기능을 흉내 냅니다. 물론 인물사진의 아웃포커싱 구현은 DSLR의 아웃포커싱 구현과는 다릅니다.\n",
    "\n",
    "DSLR에서는 사진을 촬영할 때 피사계 심도(depth of field, DOF)를 얕게 하여 초점이 맞은 피사체를 제외한 배경을 흐리게 만듭니다.\n",
    "\n",
    "https://ko.wikipedia.org/wiki/%ED%94%BC%EC%82%AC%EA%B3%84_%EC%8B%AC%EB%8F%84\n",
    "\n",
    "핸드폰 인물사진 모드는 화각이 다른 두 렌즈를 사용합니다. 일반(광각) 렌즈에서는 배경을 촬영하고 망원 렌즈에서는 인물을 촬영한 뒷배경을 흐리게 처리한 후 망원 렌즈의 인물과 적절하게 합성합니다.\n",
    "\n",
    "오늘 만들어볼 목표는 핸드폰 인물사진 모드입니다. 사실 핸드폰 인물 사진 모드를 정확히 따라 하기 위해서 2개의 렌즈가 필요하지만 딥러닝을 적용해서 하나의 렌즈만으로 비슷하게 흉내 내 보겠습니다."
   ]
  },
  {
   "cell_type": "markdown",
   "metadata": {},
   "source": [
    "인물사진 모드에서 사용되는 용어\n",
    "한국에서는 배경을 흐리게 하는 기술을 주로 '아웃포커싱'이라고 표현합니다. 하지만 아웃포커싱은 한국에서만 사용하는 용어이고 정확한 영어 표현은 얕은 피사계 심도(shallow depth of field) 또는 셸로우 포커스(shallow focus) 라고 합니다.\n",
    "\n",
    "또한 \"보케(bokeh)\"라는 일본어에서 유래된 표현 또한 많이 사용합니다. 영문권에서도 많이 사용하는 용어지만 사실 전문적으로 사진을 다루시는 분이 아니라면 그 의미가 직관적으로 다가오기 어렵습니다. 핸드폰 제조사에서도 이것을 알고 '인물사진(portrait)'이라는 직관적인 용어를 잘 만들어 낸 것 같습니다.\n",
    "\n"
   ]
  },
  {
   "cell_type": "markdown",
   "metadata": {},
   "source": [
    "### 학습 목표\n",
    "\n",
    "딥러닝을 적용하여 핸드폰 인물 사진 모드를 따라 해봅니다.\n",
    "\n",
    "### 학습 내용\n",
    "셸로우 포커스 만들기 (1) 사진을 준비하자\n",
    "\n",
    "셸로우 포커스 만들기 (2) 세그멘테이션으로 사람 분리하기\n",
    "\n",
    "셸로우 포커스 만들기 (3) 시맨틱 세그멘테이션 다뤄보기\n",
    "\n",
    "셸로우 포커스 만들기 (4) 배경 흐리게 하기\n",
    "\n",
    "셸로우 포커스 만들기 (5) 흐린 배경과 원본 영상 합성\n",
    "\n",
    "### 준비물\n",
    "\n",
    "오늘 실습을 위한 폴더를 만들고, 데이터 폴더를 연결해주세요.\n",
    "\n",
    "```bash\n",
    "$ mkdir -p ~/aiffel/human_segmentation/models\n",
    "$ mkdir -p ~/aiffel/human_segmentation/images\n",
    "$ ln -s ~/data/* ~/aiffel/human_segmentation/images\n",
    "```"
   ]
  },
  {
   "cell_type": "markdown",
   "metadata": {},
   "source": [
    "## 5-2. 셸로우 포커스 만들기 (1) 사진을 준비하자\n",
    "\n",
    "### 하나의 카메라로 셸로우 포커스(shallow focus)를 만드는 방법"
   ]
  },
  {
   "cell_type": "markdown",
   "metadata": {},
   "source": [
    "![](https://d3s0tskafalll9.cloudfront.net/media/images/E-14-2.max-800x600_jKvxGUl.png)\n",
    "\n",
    "두 개의 렌즈가 맡은 역할을 하나의 렌즈에서 구현해야 합니다. 이미지 세그멘테이션(image segmentation) 기술을 이용하면 하나의 이미지에서 배경과 사람을 분리할 수 있습니다. 분리된 배경을 블러(blur) 처리 후 사람 이미지와 다시 합하면 아웃포커싱 효과를 적용한 인물 사진을 얻을 수 있습니다.\n",
    "\n",
    "따라서 우리는 다음과 같은 후가공으로 '인물사진 모드'인 사진을 만들 겁니다.\n",
    "\n",
    "1. 배경이 있는 셀카를 촬영합니다. (배경과 사람의 거리가 약간 멀리 있으면 좋습니다.)\n",
    "2. 시맨틱 세그멘테이션(Semantic segmentation)으로 피사체(사람)와 배경을 분리합니다.\n",
    "3. 블러링(blurring) 기술로 배경을 흐리게 합니다.\n",
    "4. 피사체를 배경의 원래 위치에 합성합니다."
   ]
  },
  {
   "cell_type": "markdown",
   "metadata": {},
   "source": [
    "### 사진을 준비하자\n",
    "\n",
    "사진을 준비하겠습니다.\n",
    "\n",
    "![](https://d3s0tskafalll9.cloudfront.net/media/images/E-14-3.max-800x600_KwXP73b.png)\n",
    "\n",
    "사용할 디렉터리 구조는 아래와 같습니다.\n",
    "\n",
    "```\n",
    "- aiffel/human_segmentation\n",
    "    ├── models\n",
    "        └── deeplabv3_xception_tf_dim_ordering_tf_kernels.h5 (미리 준비할 필요는 없습니다)\n",
    "    ├── images\n",
    "        └── my_image.png\n",
    "```\n"
   ]
  },
  {
   "cell_type": "code",
   "execution_count": 1,
   "metadata": {
    "ExecuteTime": {
     "end_time": "2023-09-18T07:21:58.825260Z",
     "start_time": "2023-09-18T07:21:52.976281Z"
    }
   },
   "outputs": [
    {
     "name": "stdout",
     "output_type": "stream",
     "text": [
      "Requirement already satisfied: opencv-python in /Users/ralphpark/anaconda3/lib/python3.10/site-packages (4.8.0.76)\r\n",
      "Requirement already satisfied: numpy>=1.21.2 in /Users/ralphpark/anaconda3/lib/python3.10/site-packages (from opencv-python) (1.23.5)\r\n",
      "Note: you may need to restart the kernel to use updated packages.\n"
     ]
    }
   ],
   "source": [
    "%pip install opencv-python"
   ]
  },
  {
   "cell_type": "code",
   "execution_count": 2,
   "metadata": {
    "ExecuteTime": {
     "end_time": "2023-09-18T07:22:04.325922Z",
     "start_time": "2023-09-18T07:21:58.812800Z"
    }
   },
   "outputs": [
    {
     "name": "stdout",
     "output_type": "stream",
     "text": [
      "Requirement already satisfied: pixellib in /Users/ralphpark/anaconda3/lib/python3.10/site-packages (0.7.1)\r\n",
      "Requirement already satisfied: pillow in /Users/ralphpark/anaconda3/lib/python3.10/site-packages (from pixellib) (9.4.0)\r\n",
      "Requirement already satisfied: scikit-image in /Users/ralphpark/anaconda3/lib/python3.10/site-packages (from pixellib) (0.19.3)\r\n",
      "Requirement already satisfied: opencv-python in /Users/ralphpark/anaconda3/lib/python3.10/site-packages (from pixellib) (4.8.0.76)\r\n",
      "Requirement already satisfied: matplotlib in /Users/ralphpark/anaconda3/lib/python3.10/site-packages (from pixellib) (3.7.2)\r\n",
      "Requirement already satisfied: imgaug in /Users/ralphpark/anaconda3/lib/python3.10/site-packages (from pixellib) (0.4.0)\r\n",
      "Requirement already satisfied: labelme2coco in /Users/ralphpark/anaconda3/lib/python3.10/site-packages (from pixellib) (0.2.4)\r\n",
      "Requirement already satisfied: imantics in /Users/ralphpark/anaconda3/lib/python3.10/site-packages (from pixellib) (0.1.12)\r\n",
      "Requirement already satisfied: Cython in /Users/ralphpark/anaconda3/lib/python3.10/site-packages (from pixellib) (3.0.2)\r\n",
      "Requirement already satisfied: pyQt5 in /Users/ralphpark/anaconda3/lib/python3.10/site-packages (from pixellib) (5.15.9)\r\n",
      "Requirement already satisfied: fvcore in /Users/ralphpark/anaconda3/lib/python3.10/site-packages (from pixellib) (0.1.5.post20221221)\r\n",
      "Requirement already satisfied: iopath in /Users/ralphpark/anaconda3/lib/python3.10/site-packages (from pixellib) (0.1.10)\r\n",
      "Requirement already satisfied: omegaconf in /Users/ralphpark/anaconda3/lib/python3.10/site-packages (from pixellib) (2.3.0)\r\n",
      "Requirement already satisfied: cloudpickle in /Users/ralphpark/anaconda3/lib/python3.10/site-packages (from pixellib) (2.0.0)\r\n",
      "Requirement already satisfied: termcolor in /Users/ralphpark/anaconda3/lib/python3.10/site-packages (from pixellib) (2.3.0)\r\n",
      "Requirement already satisfied: yacs in /Users/ralphpark/anaconda3/lib/python3.10/site-packages (from pixellib) (0.1.8)\r\n",
      "Requirement already satisfied: tabulate in /Users/ralphpark/anaconda3/lib/python3.10/site-packages (from pixellib) (0.8.10)\r\n",
      "Requirement already satisfied: tqdm in /Users/ralphpark/anaconda3/lib/python3.10/site-packages (from pixellib) (4.64.1)\r\n",
      "Requirement already satisfied: future in /Users/ralphpark/anaconda3/lib/python3.10/site-packages (from pixellib) (0.18.3)\r\n",
      "Requirement already satisfied: pydot in /Users/ralphpark/anaconda3/lib/python3.10/site-packages (from pixellib) (1.4.2)\r\n",
      "Requirement already satisfied: dataclasses in /Users/ralphpark/anaconda3/lib/python3.10/site-packages (from pixellib) (0.6)\r\n",
      "Requirement already satisfied: hydra-core in /Users/ralphpark/anaconda3/lib/python3.10/site-packages (from pixellib) (1.3.2)\r\n",
      "Requirement already satisfied: black in /Users/ralphpark/anaconda3/lib/python3.10/site-packages (from pixellib) (22.6.0)\r\n",
      "Requirement already satisfied: click>=8.0.0 in /Users/ralphpark/anaconda3/lib/python3.10/site-packages (from black->pixellib) (8.1.4)\r\n",
      "Requirement already satisfied: platformdirs>=2 in /Users/ralphpark/anaconda3/lib/python3.10/site-packages (from black->pixellib) (3.8.1)\r\n",
      "Requirement already satisfied: pathspec>=0.9.0 in /Users/ralphpark/anaconda3/lib/python3.10/site-packages (from black->pixellib) (0.10.3)\r\n",
      "Requirement already satisfied: mypy-extensions>=0.4.3 in /Users/ralphpark/anaconda3/lib/python3.10/site-packages (from black->pixellib) (1.0.0)\r\n",
      "Requirement already satisfied: tomli>=1.1.0 in /Users/ralphpark/anaconda3/lib/python3.10/site-packages (from black->pixellib) (2.0.1)\r\n",
      "Requirement already satisfied: numpy in /Users/ralphpark/anaconda3/lib/python3.10/site-packages (from fvcore->pixellib) (1.23.5)\r\n",
      "Requirement already satisfied: pyyaml>=5.1 in /Users/ralphpark/anaconda3/lib/python3.10/site-packages (from fvcore->pixellib) (6.0)\r\n",
      "Requirement already satisfied: typing-extensions in /Users/ralphpark/anaconda3/lib/python3.10/site-packages (from iopath->pixellib) (4.5.0)\r\n",
      "Requirement already satisfied: portalocker in /Users/ralphpark/anaconda3/lib/python3.10/site-packages (from iopath->pixellib) (2.8.2)\r\n",
      "Requirement already satisfied: antlr4-python3-runtime==4.9.* in /Users/ralphpark/anaconda3/lib/python3.10/site-packages (from hydra-core->pixellib) (4.9.3)\r\n",
      "Requirement already satisfied: packaging in /Users/ralphpark/anaconda3/lib/python3.10/site-packages (from hydra-core->pixellib) (22.0)\r\n",
      "Requirement already satisfied: lxml in /Users/ralphpark/anaconda3/lib/python3.10/site-packages (from imantics->pixellib) (4.9.1)\r\n",
      "Requirement already satisfied: xmljson in /Users/ralphpark/anaconda3/lib/python3.10/site-packages (from imantics->pixellib) (0.2.1)\r\n",
      "Requirement already satisfied: six in /Users/ralphpark/anaconda3/lib/python3.10/site-packages (from imgaug->pixellib) (1.16.0)\r\n",
      "Requirement already satisfied: scipy in /Users/ralphpark/anaconda3/lib/python3.10/site-packages (from imgaug->pixellib) (1.10.0)\r\n",
      "Requirement already satisfied: imageio in /Users/ralphpark/anaconda3/lib/python3.10/site-packages (from imgaug->pixellib) (2.26.0)\r\n",
      "Requirement already satisfied: Shapely in /Users/ralphpark/anaconda3/lib/python3.10/site-packages (from imgaug->pixellib) (2.0.1)\r\n",
      "Requirement already satisfied: networkx>=2.2 in /Users/ralphpark/anaconda3/lib/python3.10/site-packages (from scikit-image->pixellib) (2.8.4)\r\n",
      "Requirement already satisfied: tifffile>=2019.7.26 in /Users/ralphpark/anaconda3/lib/python3.10/site-packages (from scikit-image->pixellib) (2021.7.2)\r\n",
      "Requirement already satisfied: PyWavelets>=1.1.1 in /Users/ralphpark/anaconda3/lib/python3.10/site-packages (from scikit-image->pixellib) (1.4.1)\r\n",
      "Requirement already satisfied: sahi>=0.8.19 in /Users/ralphpark/anaconda3/lib/python3.10/site-packages (from labelme2coco->pixellib) (0.11.14)\r\n",
      "Requirement already satisfied: jsonschema>=2.6.0 in /Users/ralphpark/anaconda3/lib/python3.10/site-packages (from labelme2coco->pixellib) (4.19.0)\r\n",
      "Requirement already satisfied: contourpy>=1.0.1 in /Users/ralphpark/anaconda3/lib/python3.10/site-packages (from matplotlib->pixellib) (1.0.5)\r\n",
      "Requirement already satisfied: cycler>=0.10 in /Users/ralphpark/anaconda3/lib/python3.10/site-packages (from matplotlib->pixellib) (0.11.0)\r\n",
      "Requirement already satisfied: fonttools>=4.22.0 in /Users/ralphpark/anaconda3/lib/python3.10/site-packages (from matplotlib->pixellib) (4.25.0)\r\n",
      "Requirement already satisfied: kiwisolver>=1.0.1 in /Users/ralphpark/anaconda3/lib/python3.10/site-packages (from matplotlib->pixellib) (1.4.4)\r\n",
      "Requirement already satisfied: pyparsing<3.1,>=2.3.1 in /Users/ralphpark/anaconda3/lib/python3.10/site-packages (from matplotlib->pixellib) (3.0.9)\r\n",
      "Requirement already satisfied: python-dateutil>=2.7 in /Users/ralphpark/anaconda3/lib/python3.10/site-packages (from matplotlib->pixellib) (2.8.2)\r\n",
      "Requirement already satisfied: PyQt5-sip<13,>=12.11 in /Users/ralphpark/anaconda3/lib/python3.10/site-packages/PyQt5_sip-12.11.0-py3.10-macosx-10.9-x86_64.egg (from pyQt5->pixellib) (12.11.0)\r\n",
      "Requirement already satisfied: PyQt5-Qt5>=5.15.2 in /Users/ralphpark/anaconda3/lib/python3.10/site-packages (from pyQt5->pixellib) (5.15.2)\r\n",
      "Requirement already satisfied: attrs>=22.2.0 in /Users/ralphpark/anaconda3/lib/python3.10/site-packages (from jsonschema>=2.6.0->labelme2coco->pixellib) (23.1.0)\r\n",
      "Requirement already satisfied: jsonschema-specifications>=2023.03.6 in /Users/ralphpark/anaconda3/lib/python3.10/site-packages (from jsonschema>=2.6.0->labelme2coco->pixellib) (2023.7.1)\r\n",
      "Requirement already satisfied: referencing>=0.28.4 in /Users/ralphpark/anaconda3/lib/python3.10/site-packages (from jsonschema>=2.6.0->labelme2coco->pixellib) (0.30.2)\r\n",
      "Requirement already satisfied: rpds-py>=0.7.1 in /Users/ralphpark/anaconda3/lib/python3.10/site-packages (from jsonschema>=2.6.0->labelme2coco->pixellib) (0.9.2)\r\n",
      "Requirement already satisfied: pybboxes==0.1.6 in /Users/ralphpark/anaconda3/lib/python3.10/site-packages (from sahi>=0.8.19->labelme2coco->pixellib) (0.1.6)\r\n",
      "Requirement already satisfied: fire in /Users/ralphpark/anaconda3/lib/python3.10/site-packages (from sahi>=0.8.19->labelme2coco->pixellib) (0.5.0)\r\n",
      "Requirement already satisfied: terminaltables in /Users/ralphpark/anaconda3/lib/python3.10/site-packages (from sahi>=0.8.19->labelme2coco->pixellib) (3.1.10)\r\n",
      "Requirement already satisfied: requests in /Users/ralphpark/anaconda3/lib/python3.10/site-packages (from sahi>=0.8.19->labelme2coco->pixellib) (2.31.0)\r\n",
      "Requirement already satisfied: charset-normalizer<4,>=2 in /Users/ralphpark/anaconda3/lib/python3.10/site-packages (from requests->sahi>=0.8.19->labelme2coco->pixellib) (3.2.0)\r\n",
      "Requirement already satisfied: idna<4,>=2.5 in /Users/ralphpark/anaconda3/lib/python3.10/site-packages (from requests->sahi>=0.8.19->labelme2coco->pixellib) (3.4)\r\n",
      "Requirement already satisfied: urllib3<3,>=1.21.1 in /Users/ralphpark/anaconda3/lib/python3.10/site-packages (from requests->sahi>=0.8.19->labelme2coco->pixellib) (1.26.14)\r\n",
      "Requirement already satisfied: certifi>=2017.4.17 in /Users/ralphpark/anaconda3/lib/python3.10/site-packages (from requests->sahi>=0.8.19->labelme2coco->pixellib) (2022.12.7)\r\n",
      "Note: you may need to restart the kernel to use updated packages.\n"
     ]
    }
   ],
   "source": [
    "%pip install pixellib"
   ]
  },
  {
   "cell_type": "code",
   "execution_count": 6,
   "metadata": {
    "ExecuteTime": {
     "end_time": "2023-09-18T07:39:31.306333Z",
     "start_time": "2023-09-18T07:39:31.127445Z"
    }
   },
   "outputs": [
    {
     "ename": "ImportError",
     "evalue": "cannot import name 'BatchNormalization' from 'tensorflow.python.keras.layers' (/Users/ralphpark/anaconda3/lib/python3.10/site-packages/tensorflow/python/keras/layers/__init__.py)",
     "output_type": "error",
     "traceback": [
      "\u001B[0;31m---------------------------------------------------------------------------\u001B[0m",
      "\u001B[0;31mImportError\u001B[0m                               Traceback (most recent call last)",
      "Cell \u001B[0;32mIn[6], line 12\u001B[0m\n\u001B[1;32m     10\u001B[0m \u001B[38;5;28;01mimport\u001B[39;00m \u001B[38;5;21;01mcv2\u001B[39;00m\n\u001B[1;32m     11\u001B[0m \u001B[38;5;28;01mimport\u001B[39;00m \u001B[38;5;21;01mnumpy\u001B[39;00m \u001B[38;5;28;01mas\u001B[39;00m \u001B[38;5;21;01mnp\u001B[39;00m\n\u001B[0;32m---> 12\u001B[0m \u001B[38;5;28;01mfrom\u001B[39;00m \u001B[38;5;21;01mpixellib\u001B[39;00m\u001B[38;5;21;01m.\u001B[39;00m\u001B[38;5;21;01msemantic\u001B[39;00m \u001B[38;5;28;01mimport\u001B[39;00m semantic_segmentation\n\u001B[1;32m     13\u001B[0m \u001B[38;5;28;01mfrom\u001B[39;00m \u001B[38;5;21;01mtensorflow\u001B[39;00m\u001B[38;5;21;01m.\u001B[39;00m\u001B[38;5;21;01mkeras\u001B[39;00m\u001B[38;5;21;01m.\u001B[39;00m\u001B[38;5;21;01mlayers\u001B[39;00m \u001B[38;5;28;01mimport\u001B[39;00m BatchNormalization\n\u001B[1;32m     14\u001B[0m \u001B[38;5;28;01mfrom\u001B[39;00m \u001B[38;5;21;01mmatplotlib\u001B[39;00m \u001B[38;5;28;01mimport\u001B[39;00m pyplot \u001B[38;5;28;01mas\u001B[39;00m plt\n",
      "File \u001B[0;32m~/anaconda3/lib/python3.10/site-packages/pixellib/semantic/__init__.py:4\u001B[0m\n\u001B[1;32m      2\u001B[0m \u001B[38;5;28;01mimport\u001B[39;00m \u001B[38;5;21;01mnumpy\u001B[39;00m \u001B[38;5;28;01mas\u001B[39;00m \u001B[38;5;21;01mnp\u001B[39;00m\n\u001B[1;32m      3\u001B[0m \u001B[38;5;28;01mfrom\u001B[39;00m \u001B[38;5;21;01mPIL\u001B[39;00m \u001B[38;5;28;01mimport\u001B[39;00m Image\n\u001B[0;32m----> 4\u001B[0m \u001B[38;5;28;01mfrom\u001B[39;00m \u001B[38;5;21;01m.\u001B[39;00m\u001B[38;5;21;01mdeeplab\u001B[39;00m \u001B[38;5;28;01mimport\u001B[39;00m Deeplab_xcep_pascal\n\u001B[1;32m      5\u001B[0m \u001B[38;5;28;01mfrom\u001B[39;00m \u001B[38;5;21;01m.\u001B[39;00m\u001B[38;5;21;01mdeeplab\u001B[39;00m \u001B[38;5;28;01mimport\u001B[39;00m Deeplab_xcep_ade20k\n\u001B[1;32m      6\u001B[0m \u001B[38;5;28;01mimport\u001B[39;00m \u001B[38;5;21;01mcv2\u001B[39;00m\n",
      "File \u001B[0;32m~/anaconda3/lib/python3.10/site-packages/pixellib/semantic/deeplab.py:15\u001B[0m\n\u001B[1;32m     13\u001B[0m \u001B[38;5;28;01mfrom\u001B[39;00m \u001B[38;5;21;01mtensorflow\u001B[39;00m\u001B[38;5;21;01m.\u001B[39;00m\u001B[38;5;21;01mpython\u001B[39;00m\u001B[38;5;21;01m.\u001B[39;00m\u001B[38;5;21;01mkeras\u001B[39;00m\u001B[38;5;21;01m.\u001B[39;00m\u001B[38;5;21;01mlayers\u001B[39;00m \u001B[38;5;28;01mimport\u001B[39;00m Add\n\u001B[1;32m     14\u001B[0m \u001B[38;5;28;01mfrom\u001B[39;00m \u001B[38;5;21;01mtensorflow\u001B[39;00m\u001B[38;5;21;01m.\u001B[39;00m\u001B[38;5;21;01mpython\u001B[39;00m\u001B[38;5;21;01m.\u001B[39;00m\u001B[38;5;21;01mkeras\u001B[39;00m\u001B[38;5;21;01m.\u001B[39;00m\u001B[38;5;21;01mlayers\u001B[39;00m \u001B[38;5;28;01mimport\u001B[39;00m Dropout\n\u001B[0;32m---> 15\u001B[0m \u001B[38;5;28;01mfrom\u001B[39;00m \u001B[38;5;21;01mtensorflow\u001B[39;00m\u001B[38;5;21;01m.\u001B[39;00m\u001B[38;5;21;01mpython\u001B[39;00m\u001B[38;5;21;01m.\u001B[39;00m\u001B[38;5;21;01mkeras\u001B[39;00m\u001B[38;5;21;01m.\u001B[39;00m\u001B[38;5;21;01mlayers\u001B[39;00m \u001B[38;5;28;01mimport\u001B[39;00m BatchNormalization\n\u001B[1;32m     16\u001B[0m \u001B[38;5;28;01mfrom\u001B[39;00m \u001B[38;5;21;01mtensorflow\u001B[39;00m\u001B[38;5;21;01m.\u001B[39;00m\u001B[38;5;21;01mpython\u001B[39;00m\u001B[38;5;21;01m.\u001B[39;00m\u001B[38;5;21;01mkeras\u001B[39;00m\u001B[38;5;21;01m.\u001B[39;00m\u001B[38;5;21;01mlayers\u001B[39;00m \u001B[38;5;28;01mimport\u001B[39;00m Conv2D\n\u001B[1;32m     17\u001B[0m \u001B[38;5;28;01mfrom\u001B[39;00m \u001B[38;5;21;01mtensorflow\u001B[39;00m\u001B[38;5;21;01m.\u001B[39;00m\u001B[38;5;21;01mpython\u001B[39;00m\u001B[38;5;21;01m.\u001B[39;00m\u001B[38;5;21;01mkeras\u001B[39;00m\u001B[38;5;21;01m.\u001B[39;00m\u001B[38;5;21;01mlayers\u001B[39;00m \u001B[38;5;28;01mimport\u001B[39;00m DepthwiseConv2D\n",
      "\u001B[0;31mImportError\u001B[0m: cannot import name 'BatchNormalization' from 'tensorflow.python.keras.layers' (/Users/ralphpark/anaconda3/lib/python3.10/site-packages/tensorflow/python/keras/layers/__init__.py)"
     ]
    }
   ],
   "source": [
    "# os: Operating System의 줄임말로, 운영체제에서 제공되는 여러 기능을 파이썬에서 사용할 수 있도록 함 (Ex. 디렉토리 경로 이동, 시스템 환경 변수 가져오기 등)\n",
    "# urllib: URL 작업을 위한 여러 모듈을 모은 패키지. (Ex. urllib.request, urllib.parse, ...)\n",
    "# cv2: OpenCV 라이브러리로, 실시간 컴퓨터 비전을 목적으로 한 프로그래밍 라이브러리\n",
    "# numpy(NumPy): 행렬이나 대규모 다차원 배열을 쉽게 처리할 수 있도록 지원하는 라이브러리. 데이터 구조 외에도 수치 계산을 위해 효율적으로 구현된 기능을 제공\n",
    "# pixellib: 이미지 및 비디오 segmentation을 수행하기 위한 라이브러리. \n",
    "# pixellib.semantic: segmentation 기법 중, semantic segmentation을 쉽게 사용할 수 있도록 만든 라이브러리\n",
    "# matplotlib: 파이썬 프로그래밍 언어 및 수학적 확장 NumPy 라이브러리를 활용한 플로팅 라이브러리로, 데이터 시각화 도구\n",
    "import os\n",
    "import urllib\n",
    "import cv2\n",
    "import numpy as np\n",
    "from pixellib.semantic import semantic_segmentation\n",
    "from tensorflow.keras.layers import BatchNormalization\n",
    "from matplotlib import pyplot as plt\n",
    "\n",
    "print('슝=3')"
   ]
  },
  {
   "cell_type": "code",
   "execution_count": null,
   "metadata": {
    "ExecuteTime": {
     "start_time": "2023-09-18T07:22:15.577181Z"
    }
   },
   "outputs": [],
   "source": []
  }
 ],
 "metadata": {
  "kernelspec": {
   "display_name": "Python 3",
   "language": "python",
   "name": "python3"
  },
  "language_info": {
   "codemirror_mode": {
    "name": "ipython",
    "version": 3
   },
   "file_extension": ".py",
   "mimetype": "text/x-python",
   "name": "python",
   "nbconvert_exporter": "python",
   "pygments_lexer": "ipython3",
   "version": "3.9.6"
  },
  "orig_nbformat": 4
 },
 "nbformat": 4,
 "nbformat_minor": 2
}
