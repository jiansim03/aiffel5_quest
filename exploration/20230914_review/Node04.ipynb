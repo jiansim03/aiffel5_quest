{
 "cells": [
  {
   "cell_type": "markdown",
   "source": [
    "# 4-1. 프로젝트: 뉴스기사 요약해보기\n",
    "\n",
    "새로운 데이터셋에 대해서 추상적 요약과 추출적 요약을 모두 해보는 시간을 가져봐요.\n",
    "\n",
    "먼저 주요 라이브러리 버전을 확인해 보죠."
   ],
   "metadata": {
    "collapsed": false
   },
   "id": "17cc39cad742bdb2"
  },
  {
   "cell_type": "code",
   "execution_count": 13,
   "id": "initial_id",
   "metadata": {
    "collapsed": true,
    "ExecuteTime": {
     "end_time": "2023-09-14T01:55:10.425444Z",
     "start_time": "2023-09-14T01:55:10.014716Z"
    }
   },
   "outputs": [
    {
     "name": "stderr",
     "output_type": "stream",
     "text": [
      "[nltk_data] Downloading package stopwords to\n",
      "[nltk_data]     /home/ralphpark/nltk_data...\n",
      "[nltk_data]   Package stopwords is already up-to-date!\n"
     ]
    },
    {
     "name": "stdout",
     "output_type": "stream",
     "text": [
      "3.8.1\n",
      "2.9.1\n",
      "2.1.0\n",
      "1.2.0\n"
     ]
    }
   ],
   "source": [
    "from importlib.metadata import version\n",
    "import nltk\n",
    "nltk.download('stopwords')\n",
    "import numpy as np\n",
    "import pandas as pd\n",
    "import os\n",
    "import re\n",
    "import matplotlib.pyplot as plt\n",
    "from nltk.corpus import stopwords\n",
    "from bs4 import BeautifulSoup \n",
    "from tensorflow.keras.preprocessing.text import Tokenizer \n",
    "from tensorflow.keras.preprocessing.sequence import pad_sequences\n",
    "import urllib.request\n",
    "import warnings\n",
    "warnings.filterwarnings(\"ignore\", category=UserWarning, module='bs4')\n",
    "import tensorflow\n",
    "import summa\n",
    "\n",
    "print(nltk.__version__)\n",
    "print(tensorflow.__version__)\n",
    "print(pandas.__version__)\n",
    "print(version('summa'))"
   ]
  },
  {
   "cell_type": "markdown",
   "source": [
    "## Step 1. 데이터 수집하기\n",
    "\n",
    "데이터는 아래 링크에 있는 뉴스 기사 데이터(news_summary_more.csv)를 사용하세요.\n",
    "\n",
    "sunnysai12345/News_Summary\n",
    "https://github.com/sunnysai12345/News_Summary\n",
    "\n",
    "아래의 코드로 데이터를 다운로드할 수 있어요."
   ],
   "metadata": {
    "collapsed": false
   },
   "id": "4fc96993f57d5552"
  },
  {
   "cell_type": "code",
   "execution_count": 14,
   "outputs": [],
   "source": [
    "import urllib.request\n",
    "urllib.request.urlretrieve(\"https://raw.githubusercontent.com/sunnysai12345/News_Summary/master/news_summary_more.csv\", filename=\"news_summary_more.csv\")\n",
    "data = pd.read_csv('news_summary_more.csv', encoding='iso-8859-1')"
   ],
   "metadata": {
    "collapsed": false,
    "ExecuteTime": {
     "end_time": "2023-09-14T01:55:16.841435Z",
     "start_time": "2023-09-14T01:55:15.611181Z"
    }
   },
   "id": "9af7627927cadaea"
  },
  {
   "cell_type": "code",
   "execution_count": 15,
   "outputs": [
    {
     "data": {
      "text/plain": "                                               headlines  \\\n70978  UP Police launches Shakti, Garuda bike squads ...   \n52306  Wing panel falls off Japanese PM Abe's Boeing 747   \n62473  Not seen any terror activities of Masood Azhar...   \n24996  First promo of Ekta Kapoor's Kasautii Zindagii...   \n11910  In which Cong-ruled state has there been a wom...   \n18626  11 dead, over 20 injured as vehicles collide i...   \n82194  After Punjab, Himachal allows serving liquor o...   \n70053  US embassy in Cuba being attacked by sonic wea...   \n91111  24 yrs since Steffi Graf fan stabbed Monica Se...   \n67923  B'desh arrests 3 Rohingyas for smuggling 8 lak...   \n\n                                                    text  \n70978  Police on Saturday launched two bike squads ca...  \n52306  An investigation has been launched after an ac...  \n62473  After China blocked United Nation's resolution...  \n24996  The first promo of Ekta Kapoor's production 'K...  \n11910  Taking a dig at Congress President Rahul Gandh...  \n18626  At least 11 people were killed and around 20 o...  \n82194  After Punjab, Himachal Pradesh has amended the...  \n70053  Several diplomats in US embassy in Cuba are ha...  \n91111  Former world number one women's singles player...  \n67923  Bangladesh police have arrested three Rohingya...  ",
      "text/html": "<div>\n<style scoped>\n    .dataframe tbody tr th:only-of-type {\n        vertical-align: middle;\n    }\n\n    .dataframe tbody tr th {\n        vertical-align: top;\n    }\n\n    .dataframe thead th {\n        text-align: right;\n    }\n</style>\n<table border=\"1\" class=\"dataframe\">\n  <thead>\n    <tr style=\"text-align: right;\">\n      <th></th>\n      <th>headlines</th>\n      <th>text</th>\n    </tr>\n  </thead>\n  <tbody>\n    <tr>\n      <th>70978</th>\n      <td>UP Police launches Shakti, Garuda bike squads ...</td>\n      <td>Police on Saturday launched two bike squads ca...</td>\n    </tr>\n    <tr>\n      <th>52306</th>\n      <td>Wing panel falls off Japanese PM Abe's Boeing 747</td>\n      <td>An investigation has been launched after an ac...</td>\n    </tr>\n    <tr>\n      <th>62473</th>\n      <td>Not seen any terror activities of Masood Azhar...</td>\n      <td>After China blocked United Nation's resolution...</td>\n    </tr>\n    <tr>\n      <th>24996</th>\n      <td>First promo of Ekta Kapoor's Kasautii Zindagii...</td>\n      <td>The first promo of Ekta Kapoor's production 'K...</td>\n    </tr>\n    <tr>\n      <th>11910</th>\n      <td>In which Cong-ruled state has there been a wom...</td>\n      <td>Taking a dig at Congress President Rahul Gandh...</td>\n    </tr>\n    <tr>\n      <th>18626</th>\n      <td>11 dead, over 20 injured as vehicles collide i...</td>\n      <td>At least 11 people were killed and around 20 o...</td>\n    </tr>\n    <tr>\n      <th>82194</th>\n      <td>After Punjab, Himachal allows serving liquor o...</td>\n      <td>After Punjab, Himachal Pradesh has amended the...</td>\n    </tr>\n    <tr>\n      <th>70053</th>\n      <td>US embassy in Cuba being attacked by sonic wea...</td>\n      <td>Several diplomats in US embassy in Cuba are ha...</td>\n    </tr>\n    <tr>\n      <th>91111</th>\n      <td>24 yrs since Steffi Graf fan stabbed Monica Se...</td>\n      <td>Former world number one women's singles player...</td>\n    </tr>\n    <tr>\n      <th>67923</th>\n      <td>B'desh arrests 3 Rohingyas for smuggling 8 lak...</td>\n      <td>Bangladesh police have arrested three Rohingya...</td>\n    </tr>\n  </tbody>\n</table>\n</div>"
     },
     "execution_count": 15,
     "metadata": {},
     "output_type": "execute_result"
    }
   ],
   "source": [
    "data.sample(10)"
   ],
   "metadata": {
    "collapsed": false,
    "ExecuteTime": {
     "end_time": "2023-09-14T01:55:17.699441Z",
     "start_time": "2023-09-14T01:55:17.684431Z"
    }
   },
   "id": "b045a095ea370ca3"
  },
  {
   "cell_type": "markdown",
   "source": [
    "이 데이터는 기사의 본문에 해당되는 text와 headlines 두 가지 열로 구성되어져 있습니다.\n",
    "\n",
    "추상적 요약을 하는 경우에는 text를 본문, headlines를 이미 요약된 데이터로 삼아서 모델을 학습할 수 있어요. 추출적 요약을 하는 경우에는 오직 text열만을 사용하세요."
   ],
   "metadata": {
    "collapsed": false
   },
   "id": "158caeeace0fe05"
  },
  {
   "cell_type": "markdown",
   "source": [
    "## Step 2. 데이터 전처리하기 (추상적 요약)"
   ],
   "metadata": {
    "collapsed": false
   },
   "id": "74738785c1eab5e"
  },
  {
   "cell_type": "markdown",
   "source": [
    "실습에서 사용된 전처리를 참고하여 각자 필요하다고 생각하는 전처리를 추가 사용하여 텍스트를 정규화 또는 정제해 보세요. 만약, 불용어 제거를 선택한다면 상대적으로 길이가 짧은 요약 데이터에 대해서도 불용어를 제거하는 것이 좋을지 고민해 보세요."
   ],
   "metadata": {
    "collapsed": false
   },
   "id": "ca4908937806a6e1"
  },
  {
   "cell_type": "markdown",
   "source": [
    "중복 샘플과 NULL 값이 존재하는 샘플 제거"
   ],
   "metadata": {
    "collapsed": false
   },
   "id": "f508a61ff6034251"
  },
  {
   "cell_type": "markdown",
   "source": [
    "우선 데이터의 중복 샘플 유무를 확인"
   ],
   "metadata": {
    "collapsed": false
   },
   "id": "d8424c3ebafa97c1"
  },
  {
   "cell_type": "code",
   "execution_count": 16,
   "outputs": [
    {
     "name": "stdout",
     "output_type": "stream",
     "text": [
      "headlines 열에서 중복을 배제한 유일한 샘플의 수 : 98280\n",
      "text 열에서 중복을 배제한 유일한 샘플의 수 : 98360\n"
     ]
    }
   ],
   "source": [
    "print('headlines 열에서 중복을 배제한 유일한 샘플의 수 :', data['headlines'].nunique())\n",
    "print('text 열에서 중복을 배제한 유일한 샘플의 수 :', data['text'].nunique())"
   ],
   "metadata": {
    "collapsed": false,
    "ExecuteTime": {
     "end_time": "2023-09-14T01:55:23.755608Z",
     "start_time": "2023-09-14T01:55:23.659096Z"
    }
   },
   "id": "364daeb6293cea56"
  },
  {
   "cell_type": "markdown",
   "source": [
    "데이터프레임의 drop_duplicates()를 사용하면, 손쉽게 중복 샘플을 제거"
   ],
   "metadata": {
    "collapsed": false
   },
   "id": "2e36b5472420d3fb"
  },
  {
   "cell_type": "code",
   "execution_count": 17,
   "outputs": [
    {
     "name": "stdout",
     "output_type": "stream",
     "text": [
      "전체 샘플수 : 98360\n"
     ]
    }
   ],
   "source": [
    "# inplace=True 를 설정하면 DataFrame 타입 값을 return 하지 않고 data 내부를 직접적으로 바꿉니다\n",
    "data.drop_duplicates(subset = ['text'], inplace=True)\n",
    "print('전체 샘플수 :', (len(data)))"
   ],
   "metadata": {
    "collapsed": false,
    "ExecuteTime": {
     "end_time": "2023-09-14T01:55:24.999285Z",
     "start_time": "2023-09-14T01:55:24.983176Z"
    }
   },
   "id": "2a4e1c7b1f44521e"
  },
  {
   "cell_type": "markdown",
   "source": [
    "데이터프레임에 Null 값이 있는지 확인하는 방법은 .isnull().sum()을 사용"
   ],
   "metadata": {
    "collapsed": false
   },
   "id": "8359e8d52fcaa8a5"
  },
  {
   "cell_type": "code",
   "execution_count": 18,
   "outputs": [
    {
     "name": "stdout",
     "output_type": "stream",
     "text": [
      "headlines    0\n",
      "text         0\n",
      "dtype: int64\n"
     ]
    }
   ],
   "source": [
    "print(data.isnull().sum())"
   ],
   "metadata": {
    "collapsed": false,
    "ExecuteTime": {
     "end_time": "2023-09-14T01:55:26.909433Z",
     "start_time": "2023-09-14T01:55:26.902663Z"
    }
   },
   "id": "1de13c9abdb98409"
  },
  {
   "cell_type": "markdown",
   "source": [
    "### 텍스트 정규화와 불용어 제거"
   ],
   "metadata": {
    "collapsed": false
   },
   "id": "d913febfcba28e25"
  },
  {
   "cell_type": "markdown",
   "source": [
    "텍스트 정규화를 위한 사전(dictionary)을 아래와 같이 구성"
   ],
   "metadata": {
    "collapsed": false
   },
   "id": "758dc74a86176d9b"
  },
  {
   "cell_type": "code",
   "execution_count": 11,
   "outputs": [
    {
     "name": "stdout",
     "output_type": "stream",
     "text": [
      "정규화 사전의 수:  120\n"
     ]
    }
   ],
   "source": [
    "contractions = {\"ain't\": \"is not\", \"aren't\": \"are not\",\"can't\": \"cannot\", \"'cause\": \"because\", \"could've\": \"could have\", \"couldn't\": \"could not\",\n",
    "                           \"didn't\": \"did not\",  \"doesn't\": \"does not\", \"don't\": \"do not\", \"hadn't\": \"had not\", \"hasn't\": \"has not\", \"haven't\": \"have not\",\n",
    "                           \"he'd\": \"he would\",\"he'll\": \"he will\", \"he's\": \"he is\", \"how'd\": \"how did\", \"how'd'y\": \"how do you\", \"how'll\": \"how will\", \"how's\": \"how is\",\n",
    "                           \"I'd\": \"I would\", \"I'd've\": \"I would have\", \"I'll\": \"I will\", \"I'll've\": \"I will have\",\"I'm\": \"I am\", \"I've\": \"I have\", \"i'd\": \"i would\",\n",
    "                           \"i'd've\": \"i would have\", \"i'll\": \"i will\",  \"i'll've\": \"i will have\",\"i'm\": \"i am\", \"i've\": \"i have\", \"isn't\": \"is not\", \"it'd\": \"it would\",\n",
    "                           \"it'd've\": \"it would have\", \"it'll\": \"it will\", \"it'll've\": \"it will have\",\"it's\": \"it is\", \"let's\": \"let us\", \"ma'am\": \"madam\",\n",
    "                           \"mayn't\": \"may not\", \"might've\": \"might have\",\"mightn't\": \"might not\",\"mightn't've\": \"might not have\", \"must've\": \"must have\",\n",
    "                           \"mustn't\": \"must not\", \"mustn't've\": \"must not have\", \"needn't\": \"need not\", \"needn't've\": \"need not have\",\"o'clock\": \"of the clock\",\n",
    "                           \"oughtn't\": \"ought not\", \"oughtn't've\": \"ought not have\", \"shan't\": \"shall not\", \"sha'n't\": \"shall not\", \"shan't've\": \"shall not have\",\n",
    "                           \"she'd\": \"she would\", \"she'd've\": \"she would have\", \"she'll\": \"she will\", \"she'll've\": \"she will have\", \"she's\": \"she is\",\n",
    "                           \"should've\": \"should have\", \"shouldn't\": \"should not\", \"shouldn't've\": \"should not have\", \"so've\": \"so have\",\"so's\": \"so as\",\n",
    "                           \"this's\": \"this is\",\"that'd\": \"that would\", \"that'd've\": \"that would have\", \"that's\": \"that is\", \"there'd\": \"there would\",\n",
    "                           \"there'd've\": \"there would have\", \"there's\": \"there is\", \"here's\": \"here is\",\"they'd\": \"they would\", \"they'd've\": \"they would have\",\n",
    "                           \"they'll\": \"they will\", \"they'll've\": \"they will have\", \"they're\": \"they are\", \"they've\": \"they have\", \"to've\": \"to have\",\n",
    "                           \"wasn't\": \"was not\", \"we'd\": \"we would\", \"we'd've\": \"we would have\", \"we'll\": \"we will\", \"we'll've\": \"we will have\", \"we're\": \"we are\",\n",
    "                           \"we've\": \"we have\", \"weren't\": \"were not\", \"what'll\": \"what will\", \"what'll've\": \"what will have\", \"what're\": \"what are\",\n",
    "                           \"what's\": \"what is\", \"what've\": \"what have\", \"when's\": \"when is\", \"when've\": \"when have\", \"where'd\": \"where did\", \"where's\": \"where is\",\n",
    "                           \"where've\": \"where have\", \"who'll\": \"who will\", \"who'll've\": \"who will have\", \"who's\": \"who is\", \"who've\": \"who have\",\n",
    "                           \"why's\": \"why is\", \"why've\": \"why have\", \"will've\": \"will have\", \"won't\": \"will not\", \"won't've\": \"will not have\",\n",
    "                           \"would've\": \"would have\", \"wouldn't\": \"would not\", \"wouldn't've\": \"would not have\", \"y'all\": \"you all\",\n",
    "                           \"y'all'd\": \"you all would\",\"y'all'd've\": \"you all would have\",\"y'all're\": \"you all are\",\"y'all've\": \"you all have\",\n",
    "                           \"you'd\": \"you would\", \"you'd've\": \"you would have\", \"you'll\": \"you will\", \"you'll've\": \"you will have\",\n",
    "                           \"you're\": \"you are\", \"you've\": \"you have\"}\n",
    "\n",
    "print(\"정규화 사전의 수: \", len(contractions))"
   ],
   "metadata": {
    "collapsed": false,
    "ExecuteTime": {
     "end_time": "2023-09-14T01:52:57.273993Z",
     "start_time": "2023-09-14T01:52:57.227503Z"
    }
   },
   "id": "f60873b56b3fa703"
  },
  {
   "cell_type": "markdown",
   "source": [
    "NLTK에서 제공하는 불용어 리스트를 참조해, 샘플에서 불용어를 제거할 거예요."
   ],
   "metadata": {
    "collapsed": false
   },
   "id": "805eb09887f6fe02"
  },
  {
   "cell_type": "code",
   "execution_count": 19,
   "outputs": [
    {
     "name": "stdout",
     "output_type": "stream",
     "text": [
      "불용어 개수 : 179\n",
      "['i', 'me', 'my', 'myself', 'we', 'our', 'ours', 'ourselves', 'you', \"you're\", \"you've\", \"you'll\", \"you'd\", 'your', 'yours', 'yourself', 'yourselves', 'he', 'him', 'his', 'himself', 'she', \"she's\", 'her', 'hers', 'herself', 'it', \"it's\", 'its', 'itself', 'they', 'them', 'their', 'theirs', 'themselves', 'what', 'which', 'who', 'whom', 'this', 'that', \"that'll\", 'these', 'those', 'am', 'is', 'are', 'was', 'were', 'be', 'been', 'being', 'have', 'has', 'had', 'having', 'do', 'does', 'did', 'doing', 'a', 'an', 'the', 'and', 'but', 'if', 'or', 'because', 'as', 'until', 'while', 'of', 'at', 'by', 'for', 'with', 'about', 'against', 'between', 'into', 'through', 'during', 'before', 'after', 'above', 'below', 'to', 'from', 'up', 'down', 'in', 'out', 'on', 'off', 'over', 'under', 'again', 'further', 'then', 'once', 'here', 'there', 'when', 'where', 'why', 'how', 'all', 'any', 'both', 'each', 'few', 'more', 'most', 'other', 'some', 'such', 'no', 'nor', 'not', 'only', 'own', 'same', 'so', 'than', 'too', 'very', 's', 't', 'can', 'will', 'just', 'don', \"don't\", 'should', \"should've\", 'now', 'd', 'll', 'm', 'o', 're', 've', 'y', 'ain', 'aren', \"aren't\", 'couldn', \"couldn't\", 'didn', \"didn't\", 'doesn', \"doesn't\", 'hadn', \"hadn't\", 'hasn', \"hasn't\", 'haven', \"haven't\", 'isn', \"isn't\", 'ma', 'mightn', \"mightn't\", 'mustn', \"mustn't\", 'needn', \"needn't\", 'shan', \"shan't\", 'shouldn', \"shouldn't\", 'wasn', \"wasn't\", 'weren', \"weren't\", 'won', \"won't\", 'wouldn', \"wouldn't\"]\n"
     ]
    }
   ],
   "source": [
    "print('불용어 개수 :', len(stopwords.words('english') ))\n",
    "print(stopwords.words('english'))"
   ],
   "metadata": {
    "collapsed": false,
    "ExecuteTime": {
     "end_time": "2023-09-14T01:55:55.171425Z",
     "start_time": "2023-09-14T01:55:55.128290Z"
    }
   },
   "id": "4b05f0bceec3406f"
  },
  {
   "cell_type": "markdown",
   "source": [
    " Abstractive한 문장 요약 결과문이 자연스러운 문장이 되려면 이 불용어들이 Headline에는 남아 있는 게 더 좋을 것 같습니다. 이 처리를 위해서 함수의 인자로 remove_stopwords를 추가하고, if문을 추가했어요.\n"
   ],
   "metadata": {
    "collapsed": false
   },
   "id": "b7efea28b4162978"
  },
  {
   "cell_type": "code",
   "execution_count": 21,
   "outputs": [
    {
     "name": "stdout",
     "output_type": "stream",
     "text": [
      "=3\n"
     ]
    }
   ],
   "source": [
    "# 데이터 전처리 함수\n",
    "def preprocess_sentence(sentence, remove_stopwords=True):\n",
    "    sentence = sentence.lower() # 텍스트 소문자화\n",
    "    sentence = BeautifulSoup(sentence, \"lxml\").text # <br />, <a href = ...> 등의 html 태그 제거\n",
    "    sentence = re.sub(r'\\([^)]*\\)', '', sentence) # 괄호로 닫힌 문자열 (...) 제거 Ex) my husband (and myself!) for => my husband for\n",
    "    sentence = re.sub('\"','', sentence) # 쌍따옴표 \" 제거\n",
    "    sentence = ' '.join([contractions[t] if t in contractions else t for t in sentence.split(\" \")]) # 약어 정규화\n",
    "    sentence = re.sub(r\"'s\\b\",\"\", sentence) # 소유격 제거. Ex) roland's -> roland\n",
    "    sentence = re.sub(\"[^a-zA-Z]\", \" \", sentence) # 영어 외 문자(숫자, 특수문자 등) 공백으로 변환\n",
    "    sentence = re.sub('[m]{2,}', 'mm', sentence) # m이 3개 이상이면 2개로 변경. Ex) ummmmmmm yeah -> umm yeah\n",
    "    \n",
    "    # 불용어 제거 (Text)\n",
    "    if remove_stopwords:\n",
    "        tokens = ' '.join(word for word in sentence.split() if not word in stopwords.words('english') if len(word) > 1)\n",
    "    # 불용어 미제거 (Summary)\n",
    "    else:\n",
    "        tokens = ' '.join(word for word in sentence.split() if len(word) > 1)\n",
    "    return tokens\n",
    "print('=3')"
   ],
   "metadata": {
    "collapsed": false,
    "ExecuteTime": {
     "end_time": "2023-09-14T01:59:27.924853Z",
     "start_time": "2023-09-14T01:59:27.911593Z"
    }
   },
   "id": "a6ccb58a2634ddc2"
  },
  {
   "cell_type": "markdown",
   "source": [
    "전처리 전, 후의 결과를 확인하기 위해서 임의의 text와 summary를 만들어 함수를 호출해 볼까요."
   ],
   "metadata": {
    "collapsed": false
   },
   "id": "a9e1447e8f8d7bb1"
  },
  {
   "cell_type": "code",
   "execution_count": 22,
   "outputs": [
    {
     "name": "stdout",
     "output_type": "stream",
     "text": [
      "text:  everything bought great infact ordered twice third ordered wasfor mother father\n",
      "headlines: great way to start the day\n"
     ]
    }
   ],
   "source": [
    "temp_text = 'Everything I bought was great, infact I ordered twice and the third ordered was<br />for my mother and father.'\n",
    "temp_headlines = 'Great way to start (or finish) the day!!!'\n",
    "\n",
    "print(\"text: \", preprocess_sentence(temp_text))\n",
    "print(\"headlines:\", preprocess_sentence(temp_headlines, False)) "
   ],
   "metadata": {
    "collapsed": false,
    "ExecuteTime": {
     "end_time": "2023-09-14T01:59:30.130877Z",
     "start_time": "2023-09-14T01:59:30.117509Z"
    }
   },
   "id": "e83a305c7c333237"
  },
  {
   "cell_type": "markdown",
   "source": [
    "Text의 경우에는 불용어를 제거하고, Headlines의 경우에는 불용어를 제거하지 않을 것이므로 따로 호출해서 진행해야 해요. 먼저 Text를 전처리하고, 결과를 확인하기 위해서 상위 5개의 줄을 출력해볼게요."
   ],
   "metadata": {
    "collapsed": false
   },
   "id": "837b0536d1349ab6"
  },
  {
   "cell_type": "code",
   "execution_count": 23,
   "outputs": [
    {
     "name": "stdout",
     "output_type": "stream",
     "text": [
      "Text 전처리 후 결과:  ['saurav kant alumnus upgrad iiit pg program machine learning artificial intelligence sr systems engineer infosys almost years work experience program upgrad degree career support helped transition data scientist tech mahindra salary hike upgrad online power learning powered lakh careers', 'kunal shah credit card bill payment platform cred gave users chance win free food swiggy one year pranav kaushik delhi techie bagged reward spending cred coins users get one cred coin per rupee bill paid used avail rewards brands like ixigo bookmyshow ubereats cult fit', 'new zealand defeated india wickets fourth odi hamilton thursday win first match five match odi series india lost international match rohit sharma captaincy consecutive victories dating back march match witnessed india getting seventh lowest total odi cricket history', 'aegon life iterm insurance plan customers enjoy tax benefits premiums paid save taxes plan provides life cover age years also customers options insure critical illnesses disability accidental death benefit rider life cover age years', 'speaking sexual harassment allegations rajkumar hirani sonam kapoor said known hirani many years true metoo movement get derailed metoo movement always believe woman case need reserve judgment added hirani accused assistant worked sanju']\n"
     ]
    }
   ],
   "source": [
    "# 전체 Text 데이터에 대한 전처리 : 10분 이상 시간이 걸릴 수 있습니다. \n",
    "# 훈련 데이터 전체의 Text 컬럼의 데이터를 전처리하는 코드를 작성\n",
    "clean_text = []\n",
    "\n",
    "for s in data['text']:\n",
    "    clean_text.append(preprocess_sentence(s))\n",
    "    \n",
    "\n",
    "# 전처리 후 출력\n",
    "print(\"Text 전처리 후 결과: \", clean_text[:5])"
   ],
   "metadata": {
    "collapsed": false,
    "ExecuteTime": {
     "end_time": "2023-09-14T02:09:00.055770Z",
     "start_time": "2023-09-14T02:03:55.388805Z"
    }
   },
   "id": "e5c2cd70deeb2e33"
  },
  {
   "cell_type": "markdown",
   "source": [
    "훈련 데이터 전체의 Summary 컬럼의 데이터를 전처리하는 코드"
   ],
   "metadata": {
    "collapsed": false
   },
   "id": "441abfe3357cd197"
  },
  {
   "cell_type": "code",
   "execution_count": 25,
   "outputs": [
    {
     "name": "stderr",
     "output_type": "stream",
     "text": [
      "/tmp/ipykernel_17650/998782171.py:4: MarkupResemblesLocatorWarning: The input looks more like a filename than markup. You may want to open this file and pass the filehandle into Beautiful Soup.\n",
      "  sentence = BeautifulSoup(sentence, \"lxml\").text # <br />, <a href = ...> 등의 html 태그 제거\n"
     ]
    },
    {
     "name": "stdout",
     "output_type": "stream",
     "text": [
      "Summary 전처리 후 결과:  ['upgrad learner switches to career in ml al with salary hike', 'delhi techie wins free food from swiggy for one year on cred', 'new zealand end rohit sharma led india match winning streak', 'aegon life iterm insurance plan helps customers save tax', 'have known hirani for yrs what if metoo claims are not true sonam']\n"
     ]
    }
   ],
   "source": [
    "# 전체 Summary 데이터에 대한 전처리 : 5분 이상 시간이 걸릴 수 있습니다. \n",
    "clean_headlines = []\n",
    "\n",
    "for s in data['headlines']:\n",
    "    clean_headlines.append(preprocess_sentence(s, False))\n",
    "\n",
    "print(\"Summary 전처리 후 결과: \", clean_headlines[:5])"
   ],
   "metadata": {
    "collapsed": false,
    "ExecuteTime": {
     "end_time": "2023-09-14T02:24:20.777774Z",
     "start_time": "2023-09-14T02:24:09.227037Z"
    }
   },
   "id": "f99a797eeee21ef6"
  },
  {
   "cell_type": "markdown",
   "source": [
    "데이터들을 데이터프레임에 재저장할게요. 빈(empty) 값을 가진 샘플들이 있다면, 모두 Null 값을 가진 샘플로 대체"
   ],
   "metadata": {
    "collapsed": false
   },
   "id": "7792af00df4a3f56"
  },
  {
   "cell_type": "code",
   "execution_count": 26,
   "outputs": [
    {
     "name": "stdout",
     "output_type": "stream",
     "text": [
      "=3\n"
     ]
    }
   ],
   "source": [
    "data['text'] = clean_text\n",
    "data['headlines'] = clean_headlines\n",
    "\n",
    "# 빈 값을 Null 값으로 변환\n",
    "data.replace('', np.nan, inplace=True)\n",
    "print('=3')"
   ],
   "metadata": {
    "collapsed": false,
    "ExecuteTime": {
     "end_time": "2023-09-14T02:25:37.905927Z",
     "start_time": "2023-09-14T02:25:37.861044Z"
    }
   },
   "id": "f2594ef400e6732e"
  },
  {
   "cell_type": "markdown",
   "source": [
    "이전과 같이 .isnull().sum()을 사용해서 Null 값이 생겼는지 해볼게요.\n"
   ],
   "metadata": {
    "collapsed": false
   },
   "id": "765f18d4769072c7"
  },
  {
   "cell_type": "code",
   "execution_count": 27,
   "outputs": [
    {
     "data": {
      "text/plain": "headlines    0\ntext         0\ndtype: int64"
     },
     "execution_count": 27,
     "metadata": {},
     "output_type": "execute_result"
    }
   ],
   "source": [
    "data.isnull().sum()"
   ],
   "metadata": {
    "collapsed": false,
    "ExecuteTime": {
     "end_time": "2023-09-14T02:28:16.568268Z",
     "start_time": "2023-09-14T02:28:16.556404Z"
    }
   },
   "id": "7a1020067d8a0596"
  },
  {
   "cell_type": "markdown",
   "source": [
    "null 값이 존재 X"
   ],
   "metadata": {
    "collapsed": false
   },
   "id": "20eeee2fae38e20d"
  },
  {
   "cell_type": "markdown",
   "source": [
    "### 샘플의 최대 길이 정하기\n",
    "\n",
    "샘플의 최대 길이를 정해줄 차례에요.\n",
    "\n",
    "Text와 Summary의 최소, 최대, 평균 길이를 구하고 또한 길이 분포를 시각화해서 볼게요."
   ],
   "metadata": {
    "collapsed": false
   },
   "id": "fba549784b16c39a"
  },
  {
   "cell_type": "code",
   "execution_count": 29,
   "outputs": [
    {
     "name": "stdout",
     "output_type": "stream",
     "text": [
      "텍스트의 최소 길이 : 1\n",
      "텍스트의 최대 길이 : 60\n",
      "텍스트의 평균 길이 : 35.09968483123221\n",
      "헤드라인의 최소 길이 : 1\n",
      "헤드라인의 최대 길이 : 16\n",
      "헤드라인의 평균 길이 : 9.299532330215534\n"
     ]
    },
    {
     "data": {
      "text/plain": "<Figure size 640x480 with 2 Axes>",
      "image/png": "[encoded data removed]"
     },
     "metadata": {},
     "output_type": "display_data"
    },
    {
     "data": {
      "text/plain": "<Figure size 640x480 with 1 Axes>",
      "image/png": "[encoded data removed]"
     },
     "metadata": {},
     "output_type": "display_data"
    },
    {
     "data": {
      "text/plain": "<Figure size 640x480 with 1 Axes>",
      "image/png": "[encoded data removed]"
     },
     "metadata": {},
     "output_type": "display_data"
    }
   ],
   "source": [
    "# 길이 분포 출력\n",
    "import matplotlib.pyplot as plt\n",
    "\n",
    "text_len = [len(s.split()) for s in data['text']]\n",
    "headlines_len = [len(s.split()) for s in data['headlines']]\n",
    "\n",
    "print('텍스트의 최소 길이 : {}'.format(np.min(text_len)))\n",
    "print('텍스트의 최대 길이 : {}'.format(np.max(text_len)))\n",
    "print('텍스트의 평균 길이 : {}'.format(np.mean(text_len)))\n",
    "print('헤드라인의 최소 길이 : {}'.format(np.min(headlines_len)))\n",
    "print('헤드라인의 최대 길이 : {}'.format(np.max(headlines_len)))\n",
    "print('헤드라인의 평균 길이 : {}'.format(np.mean(headlines_len)))\n",
    "\n",
    "plt.subplot(1,2,1)\n",
    "plt.boxplot(text_len)\n",
    "plt.title('Text')\n",
    "plt.subplot(1,2,2)\n",
    "plt.boxplot(headlines_len)\n",
    "plt.title('headlines')\n",
    "plt.tight_layout()\n",
    "plt.show()\n",
    "\n",
    "plt.title('Text')\n",
    "plt.hist(text_len, bins = 40)\n",
    "plt.xlabel('length of samples')\n",
    "plt.ylabel('number of samples')\n",
    "plt.show()\n",
    "\n",
    "plt.title('Headlines')\n",
    "plt.hist(headlines_len, bins = 40)\n",
    "plt.xlabel('length of samples')\n",
    "plt.ylabel('number of samples')\n",
    "plt.show()"
   ],
   "metadata": {
    "collapsed": false,
    "ExecuteTime": {
     "end_time": "2023-09-14T02:52:59.683729Z",
     "start_time": "2023-09-14T02:52:58.537016Z"
    }
   },
   "id": "22ab689dcf88a2bc"
  },
  {
   "cell_type": "markdown",
   "source": [
    "|위의 그래프를 보면, text의 경우 최소 길이가 1, 최대 길이가 60인 것으로 보입니다. 그리고 평균 길이는 약 35입니다. 그렇다면, 적절한 최대 길이를 임의로 정해보겠습니다. 아래 코드에서는 임의로 text의 최대 길이를 38로 정해보겠습니다. headlines의 경우에는 최대 길이가 16인 것으로 보입니다. 그리고 평균 길이는 약 9입니다. 그러므로, 여기서는 headlines의 적절한 최대 길이를 10으로 정해보겠습니다."
   ],
   "metadata": {
    "collapsed": false
   },
   "id": "5669b79084bcccb7"
  },
  {
   "cell_type": "code",
   "execution_count": 44,
   "outputs": [
    {
     "name": "stdout",
     "output_type": "stream",
     "text": [
      "=3\n"
     ]
    }
   ],
   "source": [
    "text_max_len = 38\n",
    "headlines_max_len = 10\n",
    "print('=3')"
   ],
   "metadata": {
    "collapsed": false,
    "ExecuteTime": {
     "end_time": "2023-09-14T02:58:02.530878Z",
     "start_time": "2023-09-14T02:58:02.501796Z"
    }
   },
   "id": "4b02913cafcbb3b2"
  },
  {
   "cell_type": "markdown",
   "source": [
    "훈련 데이터와 샘플의 길이를 입력하면, 데이터의 몇 %가 해당하는지 계산하는 함수"
   ],
   "metadata": {
    "collapsed": false
   },
   "id": "5e196a3c7a41e8b9"
  },
  {
   "cell_type": "code",
   "execution_count": 45,
   "outputs": [
    {
     "name": "stdout",
     "output_type": "stream",
     "text": [
      "=3\n"
     ]
    }
   ],
   "source": [
    "def below_threshold_len(max_len, nested_list):\n",
    "  cnt = 0\n",
    "  for s in nested_list:\n",
    "    if(len(s.split()) <= max_len):\n",
    "        cnt = cnt + 1\n",
    "  print('전체 샘플 중 길이가 %s 이하인 샘플의 비율: %s'%(max_len, (cnt / len(nested_list))))\n",
    "print('=3')"
   ],
   "metadata": {
    "collapsed": false,
    "ExecuteTime": {
     "end_time": "2023-09-14T02:58:03.466869Z",
     "start_time": "2023-09-14T02:58:03.423262Z"
    }
   },
   "id": "f4208b1ad0b9ed54"
  },
  {
   "cell_type": "markdown",
   "source": [
    " Text와 Summary에 적용해 우리가 결정한 임의의 길이가 몇%의 샘플까지 포함하는지 볼 수 있겠죠."
   ],
   "metadata": {
    "collapsed": false
   },
   "id": "ff2dddb79201a634"
  },
  {
   "cell_type": "code",
   "execution_count": 46,
   "outputs": [
    {
     "name": "stdout",
     "output_type": "stream",
     "text": [
      "전체 샘플 중 길이가 38 이하인 샘플의 비율: 0.8163379422529483\n",
      "전체 샘플 중 길이가 10 이하인 샘플의 비율: 0.8162972753151687\n"
     ]
    }
   ],
   "source": [
    "below_threshold_len(text_max_len, data['text'])\n",
    "below_threshold_len(headlines_max_len,  data['headlines'])"
   ],
   "metadata": {
    "collapsed": false,
    "ExecuteTime": {
     "end_time": "2023-09-14T02:58:04.895572Z",
     "start_time": "2023-09-14T02:58:04.745161Z"
    }
   },
   "id": "45be6e4e5322e9b2"
  },
  {
   "cell_type": "markdown",
   "source": [
    "각각 38과 10으로 패딩하게 되면 약 18.4%의 샘플의 내용이 망가지게 됨. 정해진 길이에 맞춰 자르지 않고 길이보다 길면 제외하는 방법으로 데이터 정제 진행"
   ],
   "metadata": {
    "collapsed": false
   },
   "id": "4368355e33002a1a"
  },
  {
   "cell_type": "code",
   "execution_count": 47,
   "outputs": [
    {
     "name": "stdout",
     "output_type": "stream",
     "text": [
      "전체 샘플수 : 65295\n"
     ]
    }
   ],
   "source": [
    "#Text와 Summary를 담고 있는 data 데이터프레임을 위에서 임의로 정의한 text_max_len과 summary_max_len의 길이보다 큰 샘플을 제외하는 코드를 작성하세요.(힌트 : apply 함수와 lamda식을 사용)\n",
    "data = data[data['text'].apply(lambda x: len(x.split()) <= text_max_len)]\n",
    "data = data[data['headlines'].apply(lambda x: len(x.split()) <= headlines_max_len)]\n",
    "\n",
    "\n",
    "print('전체 샘플수 :', (len(data)))"
   ],
   "metadata": {
    "collapsed": false,
    "ExecuteTime": {
     "end_time": "2023-09-14T03:02:34.823819Z",
     "start_time": "2023-09-14T03:02:34.674319Z"
    }
   },
   "id": "4e95fa3559b940e9"
  },
  {
   "cell_type": "markdown",
   "source": [
    "### 시작 토큰과 종료 토큰 추가하기"
   ],
   "metadata": {
    "collapsed": false
   },
   "id": "c816fdd23465936d"
  },
  {
   "cell_type": "markdown",
   "source": [
    "seq2seq 훈련을 위해서는 디코더의 입력과 레이블에 시작 토큰과 종료 토큰을 추가할 필요가 있어요. 이번 실습에서는 시작 토큰은 sostoken, 종료 토큰은 eostoken이라 임의로 명명하고 앞, 뒤로 추가할 거예요. 디코더의 입력에 해당하면서 시작 토큰이 맨 앞에 있는 문장의 이름을 decoder_input, 디코더의 출력 또는 레이블에 해당되면서 종료 토큰이 맨 뒤에 붙는 문장의 이름을 decoder_target이라고 이름을 정했어요. 두 개의 문장 모두 Summary 열로부터 만들 거예요"
   ],
   "metadata": {
    "collapsed": false
   },
   "id": "cd11b1c20fd70337"
  },
  {
   "cell_type": "code",
   "execution_count": 48,
   "outputs": [
    {
     "data": {
      "text/plain": "                                            headlines  \\\n2   new zealand end rohit sharma led india match w...   \n3   aegon life iterm insurance plan helps customer...   \n5   rahat fateh ali khan denies getting notice for...   \n9   cong wins ramgarh bypoll in rajasthan takes to...   \n10  up cousins fed human excreta for friendship wi...   \n\n                                                 text  \\\n2   new zealand defeated india wickets fourth odi ...   \n3   aegon life iterm insurance plan customers enjo...   \n5   pakistani singer rahat fateh ali khan denied r...   \n9   congress candidate shafia zubair ramgarh assem...   \n10  two minor cousins uttar pradesh gorakhpur alle...   \n\n                                        decoder_input  \\\n2   sostoken new zealand end rohit sharma led indi...   \n3   sostoken aegon life iterm insurance plan helps...   \n5   sostoken rahat fateh ali khan denies getting n...   \n9   sostoken cong wins ramgarh bypoll in rajasthan...   \n10  sostoken up cousins fed human excreta for frie...   \n\n                                       decoder_target  \n2   new zealand end rohit sharma led india match w...  \n3   aegon life iterm insurance plan helps customer...  \n5   rahat fateh ali khan denies getting notice for...  \n9   cong wins ramgarh bypoll in rajasthan takes to...  \n10  up cousins fed human excreta for friendship wi...  ",
      "text/html": "<div>\n<style scoped>\n    .dataframe tbody tr th:only-of-type {\n        vertical-align: middle;\n    }\n\n    .dataframe tbody tr th {\n        vertical-align: top;\n    }\n\n    .dataframe thead th {\n        text-align: right;\n    }\n</style>\n<table border=\"1\" class=\"dataframe\">\n  <thead>\n    <tr style=\"text-align: right;\">\n      <th></th>\n      <th>headlines</th>\n      <th>text</th>\n      <th>decoder_input</th>\n      <th>decoder_target</th>\n    </tr>\n  </thead>\n  <tbody>\n    <tr>\n      <th>2</th>\n      <td>new zealand end rohit sharma led india match w...</td>\n      <td>new zealand defeated india wickets fourth odi ...</td>\n      <td>sostoken new zealand end rohit sharma led indi...</td>\n      <td>new zealand end rohit sharma led india match w...</td>\n    </tr>\n    <tr>\n      <th>3</th>\n      <td>aegon life iterm insurance plan helps customer...</td>\n      <td>aegon life iterm insurance plan customers enjo...</td>\n      <td>sostoken aegon life iterm insurance plan helps...</td>\n      <td>aegon life iterm insurance plan helps customer...</td>\n    </tr>\n    <tr>\n      <th>5</th>\n      <td>rahat fateh ali khan denies getting notice for...</td>\n      <td>pakistani singer rahat fateh ali khan denied r...</td>\n      <td>sostoken rahat fateh ali khan denies getting n...</td>\n      <td>rahat fateh ali khan denies getting notice for...</td>\n    </tr>\n    <tr>\n      <th>9</th>\n      <td>cong wins ramgarh bypoll in rajasthan takes to...</td>\n      <td>congress candidate shafia zubair ramgarh assem...</td>\n      <td>sostoken cong wins ramgarh bypoll in rajasthan...</td>\n      <td>cong wins ramgarh bypoll in rajasthan takes to...</td>\n    </tr>\n    <tr>\n      <th>10</th>\n      <td>up cousins fed human excreta for friendship wi...</td>\n      <td>two minor cousins uttar pradesh gorakhpur alle...</td>\n      <td>sostoken up cousins fed human excreta for frie...</td>\n      <td>up cousins fed human excreta for friendship wi...</td>\n    </tr>\n  </tbody>\n</table>\n</div>"
     },
     "execution_count": 48,
     "metadata": {},
     "output_type": "execute_result"
    }
   ],
   "source": [
    "# 요약 데이터에는 시작 토큰과 종료 토큰을 추가한다.\n",
    "data['decoder_input'] = data['headlines'].apply(lambda x : 'sostoken '+ x)\n",
    "data['decoder_target'] = data['headlines'].apply(lambda x : x + ' eostoken')\n",
    "data.head()"
   ],
   "metadata": {
    "collapsed": false,
    "ExecuteTime": {
     "end_time": "2023-09-14T03:03:44.854048Z",
     "start_time": "2023-09-14T03:03:44.804860Z"
    }
   },
   "id": "c4c10eb1f7ddafaf"
  },
  {
   "cell_type": "markdown",
   "source": [
    "인코더의 입력, 디코더의 입력과 레이블을 각각 다시 Numpy 타입으로 저장"
   ],
   "metadata": {
    "collapsed": false
   },
   "id": "2dbf6f1c07ec5fd7"
  },
  {
   "cell_type": "code",
   "execution_count": 49,
   "outputs": [
    {
     "name": "stdout",
     "output_type": "stream",
     "text": [
      "=3\n"
     ]
    }
   ],
   "source": [
    "encoder_input = np.array(data['text']) # 인코더의 입력\n",
    "decoder_input = np.array(data['decoder_input']) # 디코더의 입력\n",
    "decoder_target = np.array(data['decoder_target']) # 디코더의 레이블\n",
    "print('=3')"
   ],
   "metadata": {
    "collapsed": false,
    "ExecuteTime": {
     "end_time": "2023-09-14T03:04:20.830525Z",
     "start_time": "2023-09-14T03:04:20.780180Z"
    }
   },
   "id": "e5cfeb4287b8b598"
  },
  {
   "cell_type": "markdown",
   "source": [
    "훈련 데이터와 테스트 데이터를 분리"
   ],
   "metadata": {
    "collapsed": false
   },
   "id": "1611c4b51d7e33f5"
  },
  {
   "cell_type": "markdown",
   "source": [
    "encoder_input과 크기와 형태가 같은 순서가 섞인 정수 시퀀스를 만들어줄게요."
   ],
   "metadata": {
    "collapsed": false
   },
   "id": "1444da970d079f9f"
  },
  {
   "cell_type": "code",
   "execution_count": 50,
   "outputs": [
    {
     "name": "stdout",
     "output_type": "stream",
     "text": [
      "[58569  8671 53466 ... 11830 29686 41365]\n"
     ]
    }
   ],
   "source": [
    "indices = np.arange(encoder_input.shape[0])\n",
    "np.random.shuffle(indices)\n",
    "print(indices)"
   ],
   "metadata": {
    "collapsed": false,
    "ExecuteTime": {
     "end_time": "2023-09-14T03:04:48.747708Z",
     "start_time": "2023-09-14T03:04:48.682571Z"
    }
   },
   "id": "156abae5efed2f58"
  },
  {
   "cell_type": "markdown",
   "source": [
    "정수 시퀀스를 이용해 다시 데이터의 샘플 순서를 정의해 주면 잘 섞인 샘플이 되겠죠."
   ],
   "metadata": {
    "collapsed": false
   },
   "id": "19dbe62a747111b4"
  },
  {
   "cell_type": "code",
   "execution_count": 51,
   "outputs": [
    {
     "name": "stdout",
     "output_type": "stream",
     "text": [
      "=3\n"
     ]
    }
   ],
   "source": [
    "encoder_input = encoder_input[indices]\n",
    "decoder_input = decoder_input[indices]\n",
    "decoder_target = decoder_target[indices]\n",
    "print('=3')"
   ],
   "metadata": {
    "collapsed": false,
    "ExecuteTime": {
     "end_time": "2023-09-14T03:05:07.366103Z",
     "start_time": "2023-09-14T03:05:07.343986Z"
    }
   },
   "id": "bfd6538aa917f503"
  },
  {
   "cell_type": "markdown",
   "source": [
    "섞인 데이터를 8:2의 비율로 훈련 데이터와 테스트 데이터로 분리\n",
    "\n",
    "전체 데이터의 크기에서 0.2를 곱해서 테스트 데이터의 크기를 정의"
   ],
   "metadata": {
    "collapsed": false
   },
   "id": "e610fce272f50944"
  },
  {
   "cell_type": "code",
   "execution_count": 52,
   "outputs": [
    {
     "name": "stdout",
     "output_type": "stream",
     "text": [
      "테스트 데이터의 수 : 13059\n"
     ]
    }
   ],
   "source": [
    "n_of_val = int(len(encoder_input)*0.2)\n",
    "print('테스트 데이터의 수 :', n_of_val)"
   ],
   "metadata": {
    "collapsed": false,
    "ExecuteTime": {
     "end_time": "2023-09-14T03:05:29.983780Z",
     "start_time": "2023-09-14T03:05:29.955455Z"
    }
   },
   "id": "30061c69ba8a85c7"
  },
  {
   "cell_type": "markdown",
   "source": [
    "정의한 테스트 데이터의 개수를 이용해 전체 데이터를 양분"
   ],
   "metadata": {
    "collapsed": false
   },
   "id": "eaafd60eaed95b74"
  },
  {
   "cell_type": "code",
   "execution_count": 53,
   "outputs": [
    {
     "name": "stdout",
     "output_type": "stream",
     "text": [
      "훈련 데이터의 개수 : 52236\n",
      "훈련 레이블의 개수 : 52236\n",
      "테스트 데이터의 개수 : 13059\n",
      "테스트 레이블의 개수 : 13059\n"
     ]
    }
   ],
   "source": [
    "encoder_input_train = encoder_input[:-n_of_val]\n",
    "decoder_input_train = decoder_input[:-n_of_val]\n",
    "decoder_target_train = decoder_target[:-n_of_val]\n",
    "\n",
    "encoder_input_test = encoder_input[-n_of_val:]\n",
    "decoder_input_test = decoder_input[-n_of_val:]\n",
    "decoder_target_test = decoder_target[-n_of_val:]\n",
    "\n",
    "print('훈련 데이터의 개수 :', len(encoder_input_train))\n",
    "print('훈련 레이블의 개수 :', len(decoder_input_train))\n",
    "print('테스트 데이터의 개수 :', len(encoder_input_test))\n",
    "print('테스트 레이블의 개수 :', len(decoder_input_test))"
   ],
   "metadata": {
    "collapsed": false,
    "ExecuteTime": {
     "end_time": "2023-09-14T03:06:02.840810Z",
     "start_time": "2023-09-14T03:06:02.810133Z"
    }
   },
   "id": "45a6d3d38aaa8036"
  },
  {
   "cell_type": "markdown",
   "source": [
    "### 단어 집합(vocabulary) 만들기 및 정수 인코딩"
   ],
   "metadata": {
    "collapsed": false
   },
   "id": "749ad59719354ad8"
  },
  {
   "cell_type": "markdown",
   "source": [
    "이제 기계가 텍스트를 숫자로 처리할 수 있도록 훈련 데이터와 테스트 데이터의 단어들을 모두 정수로 바꾸어 주어야 해요. 이를 위해서는 각 단어에 고유한 정수를 맵핑하는 작업이 필요해요. 이 과정을 단어 집합(vocabulary) 을 만든다고 표현해요. 훈련 데이터에 대해서 단어 집합을 만들어볼게요. 우선, 원문에 해당되는 encoder_input_train에 대해서 단어 집합을 만들게요.\n",
    "\n",
    "Keras의 토크나이저를 사용하면, 입력된 훈련 데이터로부터 단어 집합을 만들 수 있어요."
   ],
   "metadata": {
    "collapsed": false
   },
   "id": "37ae2dd3f5a7ceee"
  },
  {
   "cell_type": "code",
   "execution_count": 54,
   "outputs": [
    {
     "name": "stdout",
     "output_type": "stream",
     "text": [
      "=3\n"
     ]
    }
   ],
   "source": [
    "src_tokenizer = Tokenizer() # 토크나이저 정의\n",
    "src_tokenizer.fit_on_texts(encoder_input_train) # 입력된 데이터로부터 단어 집합 생성\n",
    "print('=3')"
   ],
   "metadata": {
    "collapsed": false,
    "ExecuteTime": {
     "end_time": "2023-09-14T03:07:45.581356Z",
     "start_time": "2023-09-14T03:07:44.609868Z"
    }
   },
   "id": "18e16c62ff4b4fe2"
  },
  {
   "cell_type": "markdown",
   "source": [
    " 현재 생성된 단어 집합은 src_tokenizer.word_index에 저장\n",
    " \n",
    "만든 단어 집합에 있는 모든 단어를 사용하는 것이 아니라, 빈도수가 낮은 단어들은 훈련 데이터에서 제외하고 진행\n",
    "\n",
    "등장 빈도수가 7회 미만인 단어들이 이 데이터에서 얼만큼의 비중을 차지하는지 확인"
   ],
   "metadata": {
    "collapsed": false
   },
   "id": "5316e3a8b051eb8b"
  },
  {
   "cell_type": "markdown",
   "source": [
    "src_tokenizer.word_counts.items()에는 단어와 각 단어의 등장 빈도수가 저장돼 있는데, 이를 통해서 통계적인 정보를 얻을 수 있어요."
   ],
   "metadata": {
    "collapsed": false
   },
   "id": "bb16bc918ba078e0"
  },
  {
   "cell_type": "code",
   "execution_count": 87,
   "outputs": [
    {
     "name": "stdout",
     "output_type": "stream",
     "text": [
      "단어 집합(vocabulary)의 크기 : 57300\n",
      "등장 빈도가 6번 이하인 희귀 단어의 수: 39438\n",
      "단어 집합에서 희귀 단어를 제외시킬 경우의 단어 집합의 크기 17862\n",
      "단어 집합에서 희귀 단어의 비율: 68.82722513089006\n",
      "전체 등장 빈도에서 희귀 단어 등장 빈도 비율: 4.5259288482670925\n"
     ]
    }
   ],
   "source": [
    "threshold = 7\n",
    "total_cnt = len(src_tokenizer.word_index) # 단어의 수\n",
    "rare_cnt = 0 # 등장 빈도수가 threshold보다 작은 단어의 개수를 카운트\n",
    "total_freq = 0 # 훈련 데이터의 전체 단어 빈도수 총 합\n",
    "rare_freq = 0 # 등장 빈도수가 threshold보다 작은 단어의 등장 빈도수의 총 합\n",
    "\n",
    "# 단어와 빈도수의 쌍(pair)을 key와 value로 받는다.\n",
    "for key, value in src_tokenizer.word_counts.items():\n",
    "    total_freq = total_freq + value\n",
    "\n",
    "    # 단어의 등장 빈도수가 threshold보다 작으면\n",
    "    if(value < threshold):\n",
    "        rare_cnt = rare_cnt + 1\n",
    "        rare_freq = rare_freq + value\n",
    "\n",
    "print('단어 집합(vocabulary)의 크기 :', total_cnt)\n",
    "print('등장 빈도가 %s번 이하인 희귀 단어의 수: %s'%(threshold - 1, rare_cnt))\n",
    "print('단어 집합에서 희귀 단어를 제외시킬 경우의 단어 집합의 크기 %s'%(total_cnt - rare_cnt))\n",
    "print(\"단어 집합에서 희귀 단어의 비율:\", (rare_cnt / total_cnt)*100)\n",
    "print(\"전체 등장 빈도에서 희귀 단어 등장 빈도 비율:\", (rare_freq / total_freq)*100)"
   ],
   "metadata": {
    "collapsed": false,
    "ExecuteTime": {
     "end_time": "2023-09-14T03:15:23.220161Z",
     "start_time": "2023-09-14T03:15:23.160513Z"
    }
   },
   "id": "6ffe333e076c5adc"
  },
  {
   "cell_type": "markdown",
   "source": [
    "encoder_input_train에는 5만7천여 개의 단어가 있네요. 그 아래의 통계 정보들을 해석해볼까요?\n",
    "\n",
    "등장 빈도가 threshold 값인 7회 미만, 즉 6회 이하인 단어들은 단어 집합에서 약 70%를 차지\n",
    "\n",
    "실제로 훈련 데이터에서 등장 빈도로 차지하는 비중은 상대적으로 적은 수치인 4.52%\n",
    "\n",
    " 등장 빈도가 6회 이하인 단어들은 정수 인코딩 과정에서 빼고, 훈련 데이터에서 제거\n",
    " \n",
    "이를 제외한 단어 집합의 크기를 18천여개로 계산\n",
    "\n",
    "이와 비슷한 값으로 어림잡아 단어 집합의 크기를 18,000으로 제한.\n",
    " \n",
    "토크나이저를 정의할 때 num_words의 값을 정해주면, 단어 집합의 크기를 제한할 수 있어요."
   ],
   "metadata": {
    "collapsed": false
   },
   "id": "5706d8d886c07f2"
  },
  {
   "cell_type": "code",
   "execution_count": 88,
   "outputs": [
    {
     "name": "stdout",
     "output_type": "stream",
     "text": [
      "=3\n"
     ]
    }
   ],
   "source": [
    "src_vocab = 18000\n",
    "src_tokenizer = Tokenizer(num_words=src_vocab) # 단어 집합의 크기를 8,000으로 제한\n",
    "src_tokenizer.fit_on_texts(encoder_input_train) # 단어 집합 재생성\n",
    "print('=3')"
   ],
   "metadata": {
    "collapsed": false,
    "ExecuteTime": {
     "end_time": "2023-09-14T03:18:12.938443Z",
     "start_time": "2023-09-14T03:18:11.966728Z"
    }
   },
   "id": "7fa589e8230aa3eb"
  },
  {
   "cell_type": "markdown",
   "source": [
    "texts_to_sequences()는 생성된 단어 집합에 기반하여 입력으로 주어진 텍스트 데이터의 단어들을 모두 정수로 변환하는 정수 인코딩을 수행해요. 현재 단어 집합의 크기를 8,000으로 제한했으니까 이제 8,000이 넘는 숫자들은 정수 인코딩 후에는 데이터에 존재하지 않아요."
   ],
   "metadata": {
    "collapsed": false
   },
   "id": "4a47b1ed2dc8c8b9"
  },
  {
   "cell_type": "code",
   "execution_count": 89,
   "outputs": [
    {
     "name": "stdout",
     "output_type": "stream",
     "text": [
      "[[325, 21, 11572, 769, 5044, 717, 50, 2470, 219, 17863, 233, 2763, 12, 246, 141, 13183, 983, 244, 592, 37, 8, 2295, 15558, 295, 4886, 272, 58, 811, 325, 233, 2162, 41, 325, 1037, 5045], [3954, 1894, 5650, 3606, 3955, 60, 35, 682, 61, 10724, 1785, 541, 2593, 283, 476, 1390, 7846, 870, 7389, 656, 3606, 4887, 24, 337, 2820, 1197, 1], [27, 7, 361, 70, 29, 4217, 4158, 66, 1088, 39, 16610, 3158, 456, 66, 2110, 27, 235, 1753, 313, 43, 386, 433, 723, 3561, 235, 2454, 12580, 2961, 16611, 59, 14644, 91, 5386, 753, 39, 3809]]\n"
     ]
    }
   ],
   "source": [
    "# 텍스트 시퀀스를 정수 시퀀스로 변환\n",
    "encoder_input_train = src_tokenizer.texts_to_sequences(encoder_input_train) \n",
    "encoder_input_test = src_tokenizer.texts_to_sequences(encoder_input_test)\n",
    "\n",
    "# 잘 진행되었는지 샘플 출력\n",
    "print(encoder_input_train[:3])"
   ],
   "metadata": {
    "collapsed": false,
    "ExecuteTime": {
     "end_time": "2023-09-14T03:18:58.118082Z",
     "start_time": "2023-09-14T03:18:57.320939Z"
    }
   },
   "id": "ca39ac5db09d8d7c"
  },
  {
   "cell_type": "markdown",
   "source": [
    "headlines 데이터에 대해서도 동일한 작업을 수행할게요. 케라스의 토크나이저를 사용하여 decoder_input_train을 입력으로 전체 단어 집합과 각 단어에 대한 빈도수를 계산해요."
   ],
   "metadata": {
    "collapsed": false
   },
   "id": "baf1873e8ea91f47"
  },
  {
   "cell_type": "code",
   "execution_count": 90,
   "outputs": [
    {
     "name": "stdout",
     "output_type": "stream",
     "text": [
      "=3\n"
     ]
    }
   ],
   "source": [
    "tar_tokenizer = Tokenizer()\n",
    "tar_tokenizer.fit_on_texts(decoder_input_train)\n",
    "print('=3')"
   ],
   "metadata": {
    "collapsed": false,
    "ExecuteTime": {
     "end_time": "2023-09-14T03:28:01.899172Z",
     "start_time": "2023-09-14T03:28:01.431482Z"
    }
   },
   "id": "5869270785dc556e"
  },
  {
   "cell_type": "markdown",
   "source": [
    "단어 집합이 생성되는 동시에 각 단어에 고유한 정수가 부여되었어요. 이는 tar_tokenizer.word_index에 저장되어 있어요. tar_tokenizer.word_counts.items()에는 단어와 각 단어의 등장 빈도수가 저장돼 있는데, 이를 통해서 통계적인 정보를 얻어서, 등장 빈도수가 6회 미만인 단어들이 이 데이터에서 얼만큼의 비중을 차지하는지 확인해볼게요."
   ],
   "metadata": {
    "collapsed": false
   },
   "id": "7d1bc5822ff15257"
  },
  {
   "cell_type": "code",
   "execution_count": 91,
   "outputs": [
    {
     "name": "stdout",
     "output_type": "stream",
     "text": [
      "단어 집합(vocabulary)의 크기 : 25822\n",
      "등장 빈도가 5번 이하인 희귀 단어의 수: 17448\n",
      "단어 집합에서 희귀 단어를 제외시킬 경우의 단어 집합의 크기 8374\n",
      "단어 집합에서 희귀 단어의 비율: 67.57028890093719\n",
      "전체 등장 빈도에서 희귀 단어 등장 빈도 비율: 6.5081346814200485\n"
     ]
    }
   ],
   "source": [
    "threshold = 6\n",
    "total_cnt = len(tar_tokenizer.word_index) # 단어의 수\n",
    "rare_cnt = 0 # 등장 빈도수가 threshold보다 작은 단어의 개수를 카운트\n",
    "total_freq = 0 # 훈련 데이터의 전체 단어 빈도수 총 합\n",
    "rare_freq = 0 # 등장 빈도수가 threshold보다 작은 단어의 등장 빈도수의 총 합\n",
    "\n",
    "# 단어와 빈도수의 쌍(pair)을 key와 value로 받는다.\n",
    "for key, value in tar_tokenizer.word_counts.items():\n",
    "    total_freq = total_freq + value\n",
    "\n",
    "    # 단어의 등장 빈도수가 threshold보다 작으면\n",
    "    if(value < threshold):\n",
    "        rare_cnt = rare_cnt + 1\n",
    "        rare_freq = rare_freq + value\n",
    "\n",
    "print('단어 집합(vocabulary)의 크기 :', total_cnt)\n",
    "print('등장 빈도가 %s번 이하인 희귀 단어의 수: %s'%(threshold - 1, rare_cnt))\n",
    "print('단어 집합에서 희귀 단어를 제외시킬 경우의 단어 집합의 크기 %s'%(total_cnt - rare_cnt))\n",
    "print(\"단어 집합에서 희귀 단어의 비율:\", (rare_cnt / total_cnt)*100)\n",
    "print(\"전체 등장 빈도에서 희귀 단어 등장 빈도 비율:\", (rare_freq / total_freq)*100)"
   ],
   "metadata": {
    "collapsed": false,
    "ExecuteTime": {
     "end_time": "2023-09-14T03:28:50.397446Z",
     "start_time": "2023-09-14T03:28:50.337938Z"
    }
   },
   "id": "5281f02c03c19e7a"
  },
  {
   "cell_type": "markdown",
   "source": [
    "등장 빈도가 5회 이하인 단어들은 단어 집합에서 약 67%를 차지하고 있네요. 하지만 실제로 훈련 데이터에서 등장 빈도로 차지하는 비중은 상대적으로 매우 적은 수치인 6.51%밖에 되지 않아요. 아까 했던 것과 동일하게 이 단어들은 모두 제거할게요. 어림잡아 8,000을 단어 집합의 크기로 제한할게요."
   ],
   "metadata": {
    "collapsed": false
   },
   "id": "b246c05b0c1b7ae8"
  },
  {
   "cell_type": "code",
   "execution_count": 92,
   "outputs": [
    {
     "name": "stdout",
     "output_type": "stream",
     "text": [
      "input\n",
      "input  [[1, 737, 44, 4258, 512, 7, 179, 8, 50, 2736], [1, 5256, 2242, 3235, 17, 2589, 3485, 4, 86], [1, 491, 596, 395, 5, 1546, 31, 4, 465, 3119], [1, 34, 51, 19, 14, 43, 4711, 3236], [1, 1313, 152, 803, 4259, 151, 18, 406]]\n",
      "target\n",
      "decoder  [[737, 44, 4258, 512, 7, 179, 8, 50, 2736, 2], [5256, 2242, 3235, 17, 2589, 3485, 4, 86, 2], [491, 596, 395, 5, 1546, 31, 4, 465, 3119, 2], [34, 51, 19, 14, 43, 4711, 3236, 2], [1313, 152, 803, 4259, 151, 18, 406, 2]]\n"
     ]
    }
   ],
   "source": [
    "tar_vocab = 8000\n",
    "tar_tokenizer = Tokenizer(num_words=tar_vocab) \n",
    "tar_tokenizer.fit_on_texts(decoder_input_train)\n",
    "tar_tokenizer.fit_on_texts(decoder_target_train)\n",
    "\n",
    "# 텍스트 시퀀스를 정수 시퀀스로 변환\n",
    "decoder_input_train = tar_tokenizer.texts_to_sequences(decoder_input_train) \n",
    "decoder_target_train = tar_tokenizer.texts_to_sequences(decoder_target_train)\n",
    "decoder_input_test = tar_tokenizer.texts_to_sequences(decoder_input_test)\n",
    "decoder_target_test = tar_tokenizer.texts_to_sequences(decoder_target_test)\n",
    "\n",
    "# 잘 변환되었는지 확인\n",
    "print('input')\n",
    "print('input ',decoder_input_train[:5])\n",
    "print('target')\n",
    "print('decoder ',decoder_target_train[:5])"
   ],
   "metadata": {
    "collapsed": false,
    "ExecuteTime": {
     "end_time": "2023-09-14T03:30:28.366664Z",
     "start_time": "2023-09-14T03:30:26.606846Z"
    }
   },
   "id": "9d7594a9b37dcdcb"
  },
  {
   "cell_type": "markdown",
   "source": [
    "훈련 데이터와 테스트 데이터에 대해서 요약문의 길이가 1인 경우의 인덱스를 각각 drop_train과 drop_test에 라는 변수에 저장해볼게요. 이 샘플들은 모두 삭제"
   ],
   "metadata": {
    "collapsed": false
   },
   "id": "a2e072fdb8baf9e5"
  },
  {
   "cell_type": "code",
   "execution_count": 93,
   "outputs": [
    {
     "name": "stdout",
     "output_type": "stream",
     "text": [
      "삭제할 훈련 데이터의 개수 : 0\n",
      "삭제할 테스트 데이터의 개수 : 0\n",
      "훈련 데이터의 개수 : 52236\n",
      "훈련 레이블의 개수 : 52236\n",
      "테스트 데이터의 개수 : 13059\n",
      "테스트 레이블의 개수 : 13059\n"
     ]
    }
   ],
   "source": [
    "drop_train = [index for index, sentence in enumerate(decoder_input_train) if len(sentence) == 1]\n",
    "drop_test = [index for index, sentence in enumerate(decoder_input_test) if len(sentence) == 1]\n",
    "\n",
    "print('삭제할 훈련 데이터의 개수 :', len(drop_train))\n",
    "print('삭제할 테스트 데이터의 개수 :', len(drop_test))\n",
    "\n",
    "encoder_input_train = [sentence for index, sentence in enumerate(encoder_input_train) if index not in drop_train]\n",
    "decoder_input_train = [sentence for index, sentence in enumerate(decoder_input_train) if index not in drop_train]\n",
    "decoder_target_train = [sentence for index, sentence in enumerate(decoder_target_train) if index not in drop_train]\n",
    "\n",
    "encoder_input_test = [sentence for index, sentence in enumerate(encoder_input_test) if index not in drop_test]\n",
    "decoder_input_test = [sentence for index, sentence in enumerate(decoder_input_test) if index not in drop_test]\n",
    "decoder_target_test = [sentence for index, sentence in enumerate(decoder_target_test) if index not in drop_test]\n",
    "\n",
    "print('훈련 데이터의 개수 :', len(encoder_input_train))\n",
    "print('훈련 레이블의 개수 :', len(decoder_input_train))\n",
    "print('테스트 데이터의 개수 :', len(encoder_input_test))\n",
    "print('테스트 레이블의 개수 :', len(decoder_input_test))"
   ],
   "metadata": {
    "collapsed": false,
    "ExecuteTime": {
     "end_time": "2023-09-14T03:31:35.359864Z",
     "start_time": "2023-09-14T03:31:35.303259Z"
    }
   },
   "id": "859ffa6154a9a55c"
  },
  {
   "cell_type": "markdown",
   "source": [
    "요약문의 길이가 1인 경우가 없어 제가 할 샘플이 없음"
   ],
   "metadata": {
    "collapsed": false
   },
   "id": "79b9a1e4649619b"
  },
  {
   "cell_type": "markdown",
   "source": [
    "### 패딩하기\n",
    "\n",
    "텍스트 시퀀스를 정수 시퀀스로 변환했다면, 이제 서로 다른 길이의 샘플들을 병렬 처리하기 위해 같은 길이로 맞춰주는 패딩 작업을 해주어야 해야 해요. 아까 정해두었던 최대 길이로 패딩 해 줄 거에요. 최대 길이보다 짧은 데이터들은 뒤의 공간에 숫자 0을 넣어 최대 길이로 길이를 맞춰줄게요."
   ],
   "metadata": {
    "collapsed": false
   },
   "id": "4f8b5579ce508a8e"
  },
  {
   "cell_type": "code",
   "execution_count": 95,
   "outputs": [
    {
     "name": "stdout",
     "output_type": "stream",
     "text": [
      "=3\n"
     ]
    }
   ],
   "source": [
    "encoder_input_train = pad_sequences(encoder_input_train, maxlen=text_max_len, padding='post')\n",
    "encoder_input_test = pad_sequences(encoder_input_test, maxlen=text_max_len, padding='post')\n",
    "decoder_input_train = pad_sequences(decoder_input_train, maxlen=headlines_max_len, padding='post')\n",
    "decoder_target_train = pad_sequences(decoder_target_train, maxlen=headlines_max_len, padding='post')\n",
    "decoder_input_test = pad_sequences(decoder_input_test, maxlen=headlines_max_len, padding='post')\n",
    "decoder_target_test = pad_sequences(decoder_target_test, maxlen=headlines_max_len, padding='post')\n",
    "print('=3')"
   ],
   "metadata": {
    "collapsed": false,
    "ExecuteTime": {
     "end_time": "2023-09-14T03:34:34.960884Z",
     "start_time": "2023-09-14T03:34:34.731793Z"
    }
   },
   "id": "efc4d6d5c3627adf"
  },
  {
   "cell_type": "markdown",
   "source": [
    "## 모델 설계하기"
   ],
   "metadata": {
    "collapsed": false
   },
   "id": "4adcb048ca76857f"
  },
  {
   "cell_type": "code",
   "execution_count": 96,
   "outputs": [
    {
     "name": "stderr",
     "output_type": "stream",
     "text": [
      "2023-09-14 12:36:01.016240: I tensorflow/stream_executor/cuda/cuda_gpu_executor.cc:961] could not open file to read NUMA node: /sys/bus/pci/devices/0000:01:00.0/numa_node\n",
      "Your kernel may have been built without NUMA support.\n",
      "2023-09-14 12:36:01.039717: W tensorflow/stream_executor/platform/default/dso_loader.cc:64] Could not load dynamic library 'libcudnn.so.8'; dlerror: libcudnn.so.8: cannot open shared object file: No such file or directory\n",
      "2023-09-14 12:36:01.039737: W tensorflow/core/common_runtime/gpu/gpu_device.cc:1850] Cannot dlopen some GPU libraries. Please make sure the missing libraries mentioned above are installed properly if you would like to use GPU. Follow the guide at https://www.tensorflow.org/install/gpu for how to download and setup the required libraries for your platform.\n",
      "Skipping registering GPU devices...\n",
      "2023-09-14 12:36:01.040425: I tensorflow/core/platform/cpu_feature_guard.cc:193] This TensorFlow binary is optimized with oneAPI Deep Neural Network Library (oneDNN) to use the following CPU instructions in performance-critical operations:  AVX2 FMA\n",
      "To enable them in other operations, rebuild TensorFlow with the appropriate compiler flags.\n"
     ]
    }
   ],
   "source": [
    "from tensorflow.keras.layers import Input, LSTM, Embedding, Dense, Concatenate, TimeDistributed\n",
    "from tensorflow.keras.models import Model\n",
    "from tensorflow.keras.callbacks import EarlyStopping, ModelCheckpoint\n",
    "\n",
    "\n",
    "# 인코더 설계 시작\n",
    "embedding_dim = 128\n",
    "hidden_size = 256\n",
    "\n",
    "# 인코더\n",
    "encoder_inputs = Input(shape=(text_max_len,))\n",
    "\n",
    "# 인코더의 임베딩 층\n",
    "enc_emb = Embedding(src_vocab, embedding_dim)(encoder_inputs)\n",
    "\n",
    "# 인코더의 LSTM 1\n",
    "# encoder_lstm1 = LSTM(hidden_size, return_sequences=True, return_state=True ,dropout = 0.4, recurrent_dropout = 0.4)\n",
    "encoder_lstm1 = LSTM(hidden_size, return_sequences=True, return_state=True ,dropout = 0.4)\n",
    "encoder_output1, state_h1, state_c1 = encoder_lstm1(enc_emb)\n",
    "\n",
    "# 인코더의 LSTM 2\n",
    "encoder_lstm2 = LSTM(hidden_size, return_sequences=True, return_state=True ,dropout = 0.4)\n",
    "encoder_output2, state_h2, state_c2 = encoder_lstm2(encoder_output1)\n",
    "\n",
    "# 인코더의 LSTM 3\n",
    "encoder_lstm3 = LSTM(hidden_size, return_state=True, return_sequences=True ,dropout = 0.4)\n",
    "encoder_outputs, state_h, state_c= encoder_lstm3(encoder_output2)"
   ],
   "metadata": {
    "collapsed": false,
    "ExecuteTime": {
     "end_time": "2023-09-14T03:36:02.030916Z",
     "start_time": "2023-09-14T03:36:01.520365Z"
    }
   },
   "id": "851b456321b07aab"
  },
  {
   "cell_type": "code",
   "execution_count": 97,
   "outputs": [],
   "source": [
    "# 디코더 설계\n",
    "decoder_inputs = Input(shape=(None,))\n",
    "\n",
    "# 디코더의 임베딩 층\n",
    "dec_emb_layer = Embedding(tar_vocab, embedding_dim)\n",
    "dec_emb = dec_emb_layer(decoder_inputs)\n",
    "\n",
    "# 디코더의 LSTM\n",
    "# decoder_lstm = LSTM(hidden_size, return_sequences=True, return_state=True, dropout=0.4, recurrent_dropout=0.2)\n",
    "decoder_lstm = LSTM(hidden_size, return_sequences=True, return_state=True, dropout=0.4)\n",
    "decoder_outputs, _, _ = decoder_lstm(dec_emb, initial_state=[state_h, state_c])"
   ],
   "metadata": {
    "collapsed": false,
    "ExecuteTime": {
     "end_time": "2023-09-14T03:36:44.311834Z",
     "start_time": "2023-09-14T03:36:44.153719Z"
    }
   },
   "id": "97ca96e990d0ec21"
  },
  {
   "cell_type": "code",
   "execution_count": 98,
   "outputs": [
    {
     "name": "stdout",
     "output_type": "stream",
     "text": [
      "Model: \"model\"\n",
      "__________________________________________________________________________________________________\n",
      " Layer (type)                   Output Shape         Param #     Connected to                     \n",
      "==================================================================================================\n",
      " input_1 (InputLayer)           [(None, 38)]         0           []                               \n",
      "                                                                                                  \n",
      " embedding (Embedding)          (None, 38, 128)      2304000     ['input_1[0][0]']                \n",
      "                                                                                                  \n",
      " lstm (LSTM)                    [(None, 38, 256),    394240      ['embedding[0][0]']              \n",
      "                                 (None, 256),                                                     \n",
      "                                 (None, 256)]                                                     \n",
      "                                                                                                  \n",
      " input_2 (InputLayer)           [(None, None)]       0           []                               \n",
      "                                                                                                  \n",
      " lstm_1 (LSTM)                  [(None, 38, 256),    525312      ['lstm[0][0]']                   \n",
      "                                 (None, 256),                                                     \n",
      "                                 (None, 256)]                                                     \n",
      "                                                                                                  \n",
      " embedding_1 (Embedding)        (None, None, 128)    1024000     ['input_2[0][0]']                \n",
      "                                                                                                  \n",
      " lstm_2 (LSTM)                  [(None, 38, 256),    525312      ['lstm_1[0][0]']                 \n",
      "                                 (None, 256),                                                     \n",
      "                                 (None, 256)]                                                     \n",
      "                                                                                                  \n",
      " lstm_3 (LSTM)                  [(None, None, 256),  394240      ['embedding_1[0][0]',            \n",
      "                                 (None, 256),                     'lstm_2[0][1]',                 \n",
      "                                 (None, 256)]                     'lstm_2[0][2]']                 \n",
      "                                                                                                  \n",
      " dense (Dense)                  (None, None, 8000)   2056000     ['lstm_3[0][0]']                 \n",
      "                                                                                                  \n",
      "==================================================================================================\n",
      "Total params: 7,223,104\n",
      "Trainable params: 7,223,104\n",
      "Non-trainable params: 0\n",
      "__________________________________________________________________________________________________\n"
     ]
    }
   ],
   "source": [
    "# 디코더의 출력층\n",
    "decoder_softmax_layer = Dense(tar_vocab, activation='softmax')\n",
    "decoder_softmax_outputs = decoder_softmax_layer(decoder_outputs) \n",
    "\n",
    "# 모델 정의\n",
    "model = Model([encoder_inputs, decoder_inputs], decoder_softmax_outputs)\n",
    "model.summary()"
   ],
   "metadata": {
    "collapsed": false,
    "ExecuteTime": {
     "end_time": "2023-09-14T03:36:55.923676Z",
     "start_time": "2023-09-14T03:36:55.820558Z"
    }
   },
   "id": "80bc654286247a2a"
  },
  {
   "cell_type": "markdown",
   "source": [
    "### 어텐션 메커니즘"
   ],
   "metadata": {
    "collapsed": false
   },
   "id": "24acaa97eec598e5"
  },
  {
   "cell_type": "code",
   "execution_count": 99,
   "outputs": [
    {
     "name": "stdout",
     "output_type": "stream",
     "text": [
      "Model: \"model_1\"\n",
      "__________________________________________________________________________________________________\n",
      " Layer (type)                   Output Shape         Param #     Connected to                     \n",
      "==================================================================================================\n",
      " input_1 (InputLayer)           [(None, 38)]         0           []                               \n",
      "                                                                                                  \n",
      " embedding (Embedding)          (None, 38, 128)      2304000     ['input_1[0][0]']                \n",
      "                                                                                                  \n",
      " lstm (LSTM)                    [(None, 38, 256),    394240      ['embedding[0][0]']              \n",
      "                                 (None, 256),                                                     \n",
      "                                 (None, 256)]                                                     \n",
      "                                                                                                  \n",
      " input_2 (InputLayer)           [(None, None)]       0           []                               \n",
      "                                                                                                  \n",
      " lstm_1 (LSTM)                  [(None, 38, 256),    525312      ['lstm[0][0]']                   \n",
      "                                 (None, 256),                                                     \n",
      "                                 (None, 256)]                                                     \n",
      "                                                                                                  \n",
      " embedding_1 (Embedding)        (None, None, 128)    1024000     ['input_2[0][0]']                \n",
      "                                                                                                  \n",
      " lstm_2 (LSTM)                  [(None, 38, 256),    525312      ['lstm_1[0][0]']                 \n",
      "                                 (None, 256),                                                     \n",
      "                                 (None, 256)]                                                     \n",
      "                                                                                                  \n",
      " lstm_3 (LSTM)                  [(None, None, 256),  394240      ['embedding_1[0][0]',            \n",
      "                                 (None, 256),                     'lstm_2[0][1]',                 \n",
      "                                 (None, 256)]                     'lstm_2[0][2]']                 \n",
      "                                                                                                  \n",
      " attention_layer (AdditiveAtten  (None, None, 256)   256         ['lstm_3[0][0]',                 \n",
      " tion)                                                            'lstm_2[0][0]']                 \n",
      "                                                                                                  \n",
      " concat_layer (Concatenate)     (None, None, 512)    0           ['lstm_3[0][0]',                 \n",
      "                                                                  'attention_layer[0][0]']        \n",
      "                                                                                                  \n",
      " dense_1 (Dense)                (None, None, 8000)   4104000     ['concat_layer[0][0]']           \n",
      "                                                                                                  \n",
      "==================================================================================================\n",
      "Total params: 9,271,360\n",
      "Trainable params: 9,271,360\n",
      "Non-trainable params: 0\n",
      "__________________________________________________________________________________________________\n"
     ]
    }
   ],
   "source": [
    "from tensorflow.keras.layers import AdditiveAttention\n",
    "\n",
    "# 어텐션 층(어텐션 함수)\n",
    "attn_layer = AdditiveAttention(name='attention_layer')\n",
    "\n",
    "# 인코더와 디코더의 모든 time step의 hidden state를 어텐션 층에 전달하고 결과를 리턴\n",
    "attn_out = attn_layer([decoder_outputs, encoder_outputs])\n",
    "\n",
    "\n",
    "# 어텐션의 결과와 디코더의 hidden state들을 연결\n",
    "decoder_concat_input = Concatenate(axis=-1, name='concat_layer')([decoder_outputs, attn_out])\n",
    "\n",
    "# 디코더의 출력층\n",
    "decoder_softmax_layer = Dense(tar_vocab, activation='softmax')\n",
    "decoder_softmax_outputs = decoder_softmax_layer(decoder_concat_input)\n",
    "\n",
    "# 모델 정의\n",
    "model = Model([encoder_inputs, decoder_inputs], decoder_softmax_outputs)\n",
    "model.summary()"
   ],
   "metadata": {
    "collapsed": false,
    "ExecuteTime": {
     "end_time": "2023-09-14T03:37:44.702372Z",
     "start_time": "2023-09-14T03:37:44.423026Z"
    }
   },
   "id": "f4af1d18c12666c9"
  },
  {
   "cell_type": "markdown",
   "source": [
    "### 모델 훈련하기"
   ],
   "metadata": {
    "collapsed": false
   },
   "id": "85025ad73921c4a8"
  },
  {
   "cell_type": "code",
   "execution_count": 100,
   "outputs": [
    {
     "name": "stdout",
     "output_type": "stream",
     "text": [
      "Epoch 1/30\n"
     ]
    },
    {
     "name": "stderr",
     "output_type": "stream",
     "text": [
      "2023-09-14 12:41:02.904984: W tensorflow/core/grappler/costs/op_level_cost_estimator.cc:690] Error in PredictCost() for the op: op: \"Softmax\" attr { key: \"T\" value { type: DT_FLOAT } } inputs { dtype: DT_FLOAT shape { unknown_rank: true } } device { type: \"CPU\" vendor: \"GenuineIntel\" model: \"101\" frequency: 2903 num_cores: 16 environment { key: \"cpu_instruction_set\" value: \"AVX SSE, SSE2, SSE3, SSSE3, SSE4.1, SSE4.2\" } environment { key: \"eigen\" value: \"3.4.90\" } l1_cache_size: 32768 l2_cache_size: 262144 l3_cache_size: 16777216 memory_size: 268435456 } outputs { dtype: DT_FLOAT shape { unknown_rank: true } }\n"
     ]
    },
    {
     "name": "stdout",
     "output_type": "stream",
     "text": [
      "205/205 [==============================] - ETA: 0s - loss: 6.2362"
     ]
    },
    {
     "name": "stderr",
     "output_type": "stream",
     "text": [
      "2023-09-14 12:43:37.592161: W tensorflow/core/grappler/costs/op_level_cost_estimator.cc:690] Error in PredictCost() for the op: op: \"Softmax\" attr { key: \"T\" value { type: DT_FLOAT } } inputs { dtype: DT_FLOAT shape { unknown_rank: true } } device { type: \"CPU\" vendor: \"GenuineIntel\" model: \"101\" frequency: 2903 num_cores: 16 environment { key: \"cpu_instruction_set\" value: \"AVX SSE, SSE2, SSE3, SSSE3, SSE4.1, SSE4.2\" } environment { key: \"eigen\" value: \"3.4.90\" } l1_cache_size: 32768 l2_cache_size: 262144 l3_cache_size: 16777216 memory_size: 268435456 } outputs { dtype: DT_FLOAT shape { unknown_rank: true } }\n"
     ]
    },
    {
     "name": "stdout",
     "output_type": "stream",
     "text": [
      "205/205 [==============================] - 173s 825ms/step - loss: 6.2362 - val_loss: 5.8055\n",
      "Epoch 2/30\n",
      "205/205 [==============================] - 173s 842ms/step - loss: 5.7503 - val_loss: 5.6242\n",
      "Epoch 3/30\n",
      "205/205 [==============================] - 172s 839ms/step - loss: 5.4659 - val_loss: 5.3962\n",
      "Epoch 4/30\n",
      "205/205 [==============================] - 173s 843ms/step - loss: 5.1968 - val_loss: 5.1648\n",
      "Epoch 5/30\n",
      "205/205 [==============================] - 174s 852ms/step - loss: 4.9658 - val_loss: 4.9818\n",
      "Epoch 6/30\n",
      "205/205 [==============================] - 195s 954ms/step - loss: 4.7665 - val_loss: 4.8995\n",
      "Epoch 7/30\n",
      "205/205 [==============================] - 190s 927ms/step - loss: 4.5888 - val_loss: 4.7665\n",
      "Epoch 8/30\n",
      "205/205 [==============================] - 187s 911ms/step - loss: 4.4311 - val_loss: 4.6460\n",
      "Epoch 9/30\n",
      "205/205 [==============================] - 187s 914ms/step - loss: 4.2856 - val_loss: 4.5795\n",
      "Epoch 10/30\n",
      "205/205 [==============================] - 186s 906ms/step - loss: 4.1529 - val_loss: 4.5232\n",
      "Epoch 11/30\n",
      "205/205 [==============================] - 185s 905ms/step - loss: 4.0304 - val_loss: 4.4880\n",
      "Epoch 12/30\n",
      "205/205 [==============================] - 185s 902ms/step - loss: 3.9194 - val_loss: 4.4134\n",
      "Epoch 13/30\n",
      "205/205 [==============================] - 185s 904ms/step - loss: 3.8137 - val_loss: 4.3607\n",
      "Epoch 14/30\n",
      "205/205 [==============================] - 185s 905ms/step - loss: 3.7161 - val_loss: 4.3626\n",
      "Epoch 15/30\n",
      "205/205 [==============================] - 186s 907ms/step - loss: 3.6266 - val_loss: 4.3421\n",
      "Epoch 16/30\n",
      "205/205 [==============================] - 186s 908ms/step - loss: 3.5420 - val_loss: 4.3215\n",
      "Epoch 17/30\n",
      "205/205 [==============================] - 186s 906ms/step - loss: 3.4605 - val_loss: 4.2876\n",
      "Epoch 18/30\n",
      "205/205 [==============================] - 182s 890ms/step - loss: 3.3826 - val_loss: 4.2718\n",
      "Epoch 19/30\n",
      "205/205 [==============================] - 174s 851ms/step - loss: 3.3117 - val_loss: 4.2791\n",
      "Epoch 20/30\n",
      "205/205 [==============================] - 173s 844ms/step - loss: 3.2455 - val_loss: 4.2694\n",
      "Epoch 21/30\n",
      "205/205 [==============================] - 172s 839ms/step - loss: 3.1821 - val_loss: 4.2716\n",
      "Epoch 22/30\n",
      "205/205 [==============================] - 173s 843ms/step - loss: 3.1199 - val_loss: 4.2646\n",
      "Epoch 23/30\n",
      "205/205 [==============================] - 172s 839ms/step - loss: 3.0590 - val_loss: 4.2391\n",
      "Epoch 24/30\n",
      "205/205 [==============================] - 172s 841ms/step - loss: 3.0019 - val_loss: 4.2441\n",
      "Epoch 25/30\n",
      "205/205 [==============================] - 172s 840ms/step - loss: 2.9482 - val_loss: 4.2615\n",
      "Epoch 25: early stopping\n"
     ]
    }
   ],
   "source": [
    "model.compile(optimizer='rmsprop', loss='sparse_categorical_crossentropy')\n",
    "es = EarlyStopping(monitor='val_loss', patience=2, verbose=1)\n",
    "history = model.fit(x=[encoder_input_train, decoder_input_train], y=decoder_target_train, \\\n",
    "          validation_data=([encoder_input_test, decoder_input_test], decoder_target_test), \\\n",
    "          batch_size=256, callbacks=[es], epochs=30)"
   ],
   "metadata": {
    "collapsed": false,
    "ExecuteTime": {
     "end_time": "2023-09-14T04:55:58.654707Z",
     "start_time": "2023-09-14T03:41:00.152617Z"
    }
   },
   "id": "50aca973270a53b9"
  },
  {
   "cell_type": "markdown",
   "source": [
    "이제 훈련 데이터의 손실과 검증 데이터의 손실이 줄어드는 과정을 시각화 해봐요.\n",
    "\n"
   ],
   "metadata": {
    "collapsed": false
   },
   "id": "147a1e0704005400"
  },
  {
   "cell_type": "code",
   "execution_count": 101,
   "outputs": [
    {
     "data": {
      "text/plain": "<Figure size 640x480 with 1 Axes>",
      "image/png": "[encoded data removed]"
     },
     "metadata": {},
     "output_type": "display_data"
    }
   ],
   "source": [
    "plt.plot(history.history['loss'], label='train')\n",
    "plt.plot(history.history['val_loss'], label='test')\n",
    "plt.legend()\n",
    "plt.show()"
   ],
   "metadata": {
    "collapsed": false,
    "ExecuteTime": {
     "end_time": "2023-09-14T05:08:48.500175Z",
     "start_time": "2023-09-14T05:08:48.402216Z"
    }
   },
   "id": "f5494a1bd8ae806"
  },
  {
   "cell_type": "markdown",
   "source": [
    "### 인퍼런스 모델 구현하기"
   ],
   "metadata": {
    "collapsed": false
   },
   "id": "2cbf1c16519c404a"
  },
  {
   "cell_type": "markdown",
   "source": [
    "테스트 단계에서는 정수 인덱스 행렬로 존재하던 텍스트 데이터를 실제 데이터로 복원해야 하므로, 필요한 3개의 사전을 아래와 같이 미리 준비해 둡니다."
   ],
   "metadata": {
    "collapsed": false
   },
   "id": "7fc445c9caaad2be"
  },
  {
   "cell_type": "code",
   "execution_count": 102,
   "outputs": [
    {
     "name": "stdout",
     "output_type": "stream",
     "text": [
      "=3\n"
     ]
    }
   ],
   "source": [
    "src_index_to_word = src_tokenizer.index_word # 원문 단어 집합에서 정수 -> 단어를 얻음\n",
    "tar_word_to_index = tar_tokenizer.word_index # 요약 단어 집합에서 단어 -> 정수를 얻음\n",
    "tar_index_to_word = tar_tokenizer.index_word # 요약 단어 집합에서 정수 -> 단어를 얻음\n",
    "\n",
    "print('=3')"
   ],
   "metadata": {
    "collapsed": false,
    "ExecuteTime": {
     "end_time": "2023-09-14T05:11:21.747760Z",
     "start_time": "2023-09-14T05:11:21.715747Z"
    }
   },
   "id": "17721fce2a93595f"
  },
  {
   "cell_type": "markdown",
   "source": [
    "seq2seq는 훈련할 때와 실제 동작할 때(인퍼런스 단계)의 방식이 다르므로 그에 맞게 모델 설계를 별개로 진행해야 한다는 것, 알고 계시나요?\n",
    "\n",
    "훈련 단계에서는 디코더의 입력부에 정답이 되는 문장 전체를 한꺼번에 넣고 디코더의 출력과 한 번에 비교할 수 있으므로, 인코더와 디코더를 엮은 통짜 모델 하나만 준비했습니다.\n",
    "\n",
    "그러나 정답 문장이 없는 인퍼런스 단계에서는 만들어야 할 문장의 길이만큼 디코더가 반복 구조로 동작해야 하기 때문에 부득이하게 인퍼런스를 위한 모델 설계를 별도로 해주어야 합니다. 이때는 인코더 모델과 디코더 모델을 분리해서 설계합니다."
   ],
   "metadata": {
    "collapsed": false
   },
   "id": "573b2055000ccdba"
  },
  {
   "cell_type": "code",
   "execution_count": 103,
   "outputs": [
    {
     "name": "stdout",
     "output_type": "stream",
     "text": [
      "=3\n"
     ]
    }
   ],
   "source": [
    "# 인코더 설계\n",
    "encoder_model = Model(inputs=encoder_inputs, outputs=[encoder_outputs, state_h, state_c])\n",
    "\n",
    "# 이전 시점의 상태들을 저장하는 텐서\n",
    "decoder_state_input_h = Input(shape=(hidden_size,))\n",
    "decoder_state_input_c = Input(shape=(hidden_size,))\n",
    "\n",
    "dec_emb2 = dec_emb_layer(decoder_inputs)\n",
    "\n",
    "# 문장의 다음 단어를 예측하기 위해서 초기 상태(initial_state)를 이전 시점의 상태로 사용. 이는 뒤의 함수 decode_sequence()에 구현\n",
    "# 훈련 과정에서와 달리 LSTM의 리턴하는 은닉 상태와 셀 상태인 state_h와 state_c를 버리지 않음.\n",
    "decoder_outputs2, state_h2, state_c2 = decoder_lstm(dec_emb2, initial_state=[decoder_state_input_h, decoder_state_input_c])\n",
    "\n",
    "print('=3')"
   ],
   "metadata": {
    "collapsed": false,
    "ExecuteTime": {
     "end_time": "2023-09-14T05:11:23.263835Z",
     "start_time": "2023-09-14T05:11:23.124846Z"
    }
   },
   "id": "6e29eab7d91ad675"
  },
  {
   "cell_type": "markdown",
   "source": [
    "어텐션 메커니즘을 사용하는 출력층을 설계해 주세요."
   ],
   "metadata": {
    "collapsed": false
   },
   "id": "ae0d8520c5778630"
  },
  {
   "cell_type": "code",
   "execution_count": 104,
   "outputs": [
    {
     "name": "stdout",
     "output_type": "stream",
     "text": [
      "=3\n"
     ]
    }
   ],
   "source": [
    "# 어텐션 함수\n",
    "decoder_hidden_state_input = Input(shape=(text_max_len, hidden_size))\n",
    "attn_out_inf = attn_layer([decoder_outputs2, decoder_hidden_state_input])\n",
    "decoder_inf_concat = Concatenate(axis=-1, name='concat')([decoder_outputs2, attn_out_inf])\n",
    "\n",
    "# 디코더의 출력층\n",
    "decoder_outputs2 = decoder_softmax_layer(decoder_inf_concat) \n",
    "\n",
    "# 최종 디코더 모델\n",
    "decoder_model = Model(\n",
    "    [decoder_inputs] + [decoder_hidden_state_input,decoder_state_input_h, decoder_state_input_c],\n",
    "    [decoder_outputs2] + [state_h2, state_c2])\n",
    "\n",
    "print('=3')"
   ],
   "metadata": {
    "collapsed": false,
    "ExecuteTime": {
     "end_time": "2023-09-14T05:11:25.009726Z",
     "start_time": "2023-09-14T05:11:24.946119Z"
    }
   },
   "id": "651313dd02fe1445"
  },
  {
   "cell_type": "markdown",
   "source": [
    "인퍼런스 단계에서 단어 시퀀스를 완성하는 함수를 만들어주세요."
   ],
   "metadata": {
    "collapsed": false
   },
   "id": "17c5f8440eaf00e5"
  },
  {
   "cell_type": "code",
   "execution_count": 108,
   "outputs": [
    {
     "name": "stdout",
     "output_type": "stream",
     "text": [
      "=3\n"
     ]
    }
   ],
   "source": [
    "def decode_sequence(input_seq):\n",
    "    # 입력으로부터 인코더의 상태를 얻음\n",
    "    e_out, e_h, e_c = encoder_model.predict(input_seq)\n",
    "\n",
    "     # <SOS>에 해당하는 토큰 생성\n",
    "    target_seq = np.zeros((1,1))\n",
    "    target_seq[0, 0] = tar_word_to_index['sostoken']\n",
    "\n",
    "    stop_condition = False\n",
    "    decoded_sentence = ''\n",
    "    while not stop_condition: # stop_condition이 True가 될 때까지 루프 반복\n",
    "\n",
    "        output_tokens, h, c = decoder_model.predict([target_seq] + [e_out, e_h, e_c])\n",
    "        sampled_token_index = np.argmax(output_tokens[0, -1, :])\n",
    "        sampled_token = tar_index_to_word[sampled_token_index]\n",
    "\n",
    "        if (sampled_token!='eostoken'):\n",
    "            decoded_sentence += ' '+sampled_token\n",
    "\n",
    "        #  <eos>에 도달하거나 최대 길이를 넘으면 중단.\n",
    "        if (sampled_token == 'eostoken'  or len(decoded_sentence.split()) >= (headlines_max_len-1)):\n",
    "            stop_condition = True\n",
    "\n",
    "        # 길이가 1인 타겟 시퀀스를 업데이트\n",
    "        target_seq = np.zeros((1,1))\n",
    "        target_seq[0, 0] = sampled_token_index\n",
    "\n",
    "        # 상태를 업데이트 합니다.\n",
    "        e_h, e_c = h, c\n",
    "\n",
    "    return decoded_sentence\n",
    "print('=3')"
   ],
   "metadata": {
    "collapsed": false,
    "ExecuteTime": {
     "end_time": "2023-09-14T05:13:23.968328Z",
     "start_time": "2023-09-14T05:13:23.908255Z"
    }
   },
   "id": "723df1d0aa043993"
  },
  {
   "cell_type": "markdown",
   "source": [
    "## 모델 테스트하기"
   ],
   "metadata": {
    "collapsed": false
   },
   "id": "b70d95cbc3eccb91"
  },
  {
   "cell_type": "code",
   "execution_count": 109,
   "outputs": [
    {
     "name": "stdout",
     "output_type": "stream",
     "text": [
      "=3\n"
     ]
    }
   ],
   "source": [
    "# 원문의 정수 시퀀스를 텍스트 시퀀스로 변환\n",
    "# seq2text 함수처럼 요약문의 정수 시퀀스를 텍스트로 변환하는 seq2summary 함수 코드를 작성하세요.\n",
    "# (힌트 : 요약문에는 sostoken과 eostoken을 고려해야 함)\n",
    "\n",
    "def seq2text(input_seq):\n",
    "    temp=''\n",
    "    for i in input_seq:\n",
    "        if (i!=0):\n",
    "            temp = temp + src_index_to_word[i]+' '\n",
    "    return temp\n",
    "\n",
    "# 요약문의 정수 시퀀스를 텍스트 시퀀스로 변환\n",
    "def seq2headlines(input_seq):\n",
    "    temp=''\n",
    "    for i in input_seq:\n",
    "        if ((i!=0 and i!=tar_word_to_index['sostoken']) and i!=tar_word_to_index['eostoken']):\n",
    "            temp = temp + tar_index_to_word[i] + ' '\n",
    "    return temp\n",
    "\n",
    "print('=3')"
   ],
   "metadata": {
    "collapsed": false,
    "ExecuteTime": {
     "end_time": "2023-09-14T05:13:41.361608Z",
     "start_time": "2023-09-14T05:13:41.248833Z"
    }
   },
   "id": "70ac3b86f7df2d9b"
  },
  {
   "cell_type": "markdown",
   "source": [
    "테스트 데이터 약 50개의 샘플에 대해서 실제 요약과 예측된 요약을 비교해보세요."
   ],
   "metadata": {
    "collapsed": false
   },
   "id": "a24e71e5d5dcd9cb"
  },
  {
   "cell_type": "code",
   "execution_count": 110,
   "outputs": [
    {
     "name": "stdout",
     "output_type": "stream",
     "text": [
      "원문 : united states president donald trump accepted prime minister narendra modi invitation visit india white house announced monday inviting trump family modi said hope give opportunity welcome host india meanwhile separately invited trump daughter ivanka global entrepreneurship summit india \n",
      "실제 요약 : donald trump accepts pm modi invite to visit india \n",
      "1/1 [==============================] - 0s 24ms/step\n",
      "1/1 [==============================] - 0s 13ms/step\n",
      "1/1 [==============================] - 0s 14ms/step\n",
      "1/1 [==============================] - 0s 13ms/step\n",
      "1/1 [==============================] - 0s 13ms/step\n",
      "1/1 [==============================] - 0s 14ms/step\n",
      "1/1 [==============================] - 0s 18ms/step\n",
      "1/1 [==============================] - 0s 13ms/step\n",
      "1/1 [==============================] - 0s 13ms/step\n",
      "1/1 [==============================] - 0s 14ms/step\n",
      "예측 요약 :  pm modi calls for us pm modi visit\n",
      "\n",
      "\n",
      "원문 : cricketers including harbhajan singh virender sehwag congratulated yuvraj singh playing th odi india bangladesh champions trophy semi final thursday harbhajan posted video said hope win man match game today zaheer khan wrote proud brother amazing journey \n",
      "실제 요약 : sehwag harbhajan congratulate yuvraj on his th odi \n",
      "1/1 [==============================] - 0s 23ms/step\n",
      "1/1 [==============================] - 0s 13ms/step\n",
      "1/1 [==============================] - 0s 13ms/step\n",
      "1/1 [==============================] - 0s 14ms/step\n",
      "1/1 [==============================] - 0s 14ms/step\n",
      "1/1 [==============================] - 0s 13ms/step\n",
      "1/1 [==============================] - 0s 13ms/step\n",
      "1/1 [==============================] - 0s 14ms/step\n",
      "1/1 [==============================] - 0s 13ms/step\n",
      "1/1 [==============================] - 0s 13ms/step\n",
      "예측 요약 :  harbhajan singh to play in india cricket reports\n",
      "\n",
      "\n",
      "원문 : year old man chennai carrying kg drug arrested mumbai airport saturday air intelligence unit said accused set travel malaysia may working syndicate drugs worth crore found bag hidden cavity made cardboard \n",
      "실제 요약 : man carrying drugs worth crore arrested at mumbai airport \n",
      "1/1 [==============================] - 0s 20ms/step\n",
      "1/1 [==============================] - 0s 18ms/step\n",
      "1/1 [==============================] - 0s 13ms/step\n",
      "1/1 [==============================] - 0s 13ms/step\n",
      "1/1 [==============================] - 0s 14ms/step\n",
      "1/1 [==============================] - 0s 14ms/step\n",
      "1/1 [==============================] - 0s 14ms/step\n",
      "1/1 [==============================] - 0s 13ms/step\n",
      "1/1 [==============================] - 0s 14ms/step\n",
      "예측 요약 :  man arrested for smuggling gold at airport\n",
      "\n",
      "\n",
      "원문 : isis claimed one soldiers carried las vegas mass shooting killed people injured others gunman converted islam several months ago militant group claimed however police earlier said attacker believed connected militant group \n",
      "실제 요약 : is claims responsibility for las vegas attack that killed \n",
      "1/1 [==============================] - 0s 19ms/step\n",
      "1/1 [==============================] - 0s 13ms/step\n",
      "1/1 [==============================] - 0s 13ms/step\n",
      "1/1 [==============================] - 0s 14ms/step\n",
      "1/1 [==============================] - 0s 13ms/step\n",
      "1/1 [==============================] - 0s 13ms/step\n",
      "1/1 [==============================] - 0s 14ms/step\n",
      "1/1 [==============================] - 0s 13ms/step\n",
      "1/1 [==============================] - 0s 13ms/step\n",
      "1/1 [==============================] - 0s 14ms/step\n",
      "예측 요약 :  isis claims responsibility for attack on isis attack\n",
      "\n",
      "\n",
      "원문 : talking mainstream films actor manoj bajpayee said commercial films like going office like job like commercial films things conveyed easily get chance work character like wear costume say dialogues conviction get added \n",
      "실제 요약 : doing commercial films is like going to office manoj \n",
      "1/1 [==============================] - 0s 19ms/step\n",
      "1/1 [==============================] - 0s 13ms/step\n",
      "1/1 [==============================] - 0s 13ms/step\n",
      "1/1 [==============================] - 0s 14ms/step\n",
      "1/1 [==============================] - 0s 13ms/step\n",
      "1/1 [==============================] - 0s 13ms/step\n",
      "1/1 [==============================] - 0s 14ms/step\n",
      "1/1 [==============================] - 0s 18ms/step\n",
      "1/1 [==============================] - 0s 13ms/step\n",
      "1/1 [==============================] - 0s 13ms/step\n",
      "예측 요약 :  film is like akshay kumar on success kumar\n",
      "\n",
      "\n",
      "원문 : uber sought patent system self driving vehicles includes virtual driver projection alert pedestrians also project arrows indicating direction vehicle intends turn system aims replace gestures like drivers use communicate pedestrians \n",
      "실제 요약 : uber plans on self driving cars to alert people \n",
      "1/1 [==============================] - 0s 20ms/step\n",
      "1/1 [==============================] - 0s 14ms/step\n",
      "1/1 [==============================] - 0s 13ms/step\n",
      "1/1 [==============================] - 0s 14ms/step\n",
      "1/1 [==============================] - 0s 14ms/step\n",
      "1/1 [==============================] - 0s 16ms/step\n",
      "1/1 [==============================] - 0s 13ms/step\n",
      "1/1 [==============================] - 0s 13ms/step\n",
      "1/1 [==============================] - 0s 14ms/step\n",
      "1/1 [==============================] - 0s 14ms/step\n",
      "예측 요약 :  self driving car driving car in self driving\n",
      "\n",
      "\n",
      "원문 : seven indians among killed monday bus collision kuwait officials said deceased also included five three pakistani nationals workers oil field high casualty figure result head collision two buses officials added \n",
      "실제 요약 : indians among killed in kuwait bus collision \n",
      "1/1 [==============================] - 0s 19ms/step\n",
      "1/1 [==============================] - 0s 14ms/step\n",
      "1/1 [==============================] - 0s 14ms/step\n",
      "1/1 [==============================] - 0s 14ms/step\n",
      "1/1 [==============================] - 0s 13ms/step\n",
      "1/1 [==============================] - 0s 13ms/step\n",
      "1/1 [==============================] - 0s 13ms/step\n",
      "1/1 [==============================] - 0s 13ms/step\n",
      "예측 요약 :  killed injured in attack on isis\n",
      "\n",
      "\n",
      "원문 : report comptroller auditor general tabled punjab assembly revealed payments made fake bills kabaddi world cup state per report payment lakh made buses exist crore paid without calling \n",
      "실제 요약 : payments made against fake bills during kabaddi wc cag \n",
      "1/1 [==============================] - 0s 21ms/step\n",
      "1/1 [==============================] - 0s 14ms/step\n",
      "1/1 [==============================] - 0s 15ms/step\n",
      "1/1 [==============================] - 0s 13ms/step\n",
      "1/1 [==============================] - 0s 14ms/step\n",
      "1/1 [==============================] - 0s 14ms/step\n",
      "1/1 [==============================] - 0s 14ms/step\n",
      "예측 요약 :  kerala to get world cup\n",
      "\n",
      "\n",
      "원문 : pakistan commonwealth games gold winner muhammad said wants train indian wrestler sushil kumar want come india whenever go indian comes everyone loves said wrestler also suggested two neighbouring nations combined training programmes olympics \n",
      "실제 요약 : want to train with sushil pak cwg gold winner \n",
      "1/1 [==============================] - 0s 19ms/step\n",
      "1/1 [==============================] - 0s 14ms/step\n",
      "1/1 [==============================] - 0s 14ms/step\n",
      "1/1 [==============================] - 0s 13ms/step\n",
      "1/1 [==============================] - 0s 14ms/step\n",
      "1/1 [==============================] - 0s 14ms/step\n",
      "1/1 [==============================] - 0s 14ms/step\n",
      "1/1 [==============================] - 0s 13ms/step\n",
      "1/1 [==============================] - 0s 13ms/step\n",
      "1/1 [==============================] - 0s 14ms/step\n",
      "예측 요약 :  india will not be india by olympic coach\n",
      "\n",
      "\n",
      "원문 : industries part aditya birla group said company far repaid crore pay another crore month cut debt move reduce interest cost crore fiscal chairman kumar mangalam birla said added raised million qualified institutional placement \n",
      "실제 요약 : to repay crore debt this month birla \n",
      "1/1 [==============================] - 0s 19ms/step\n",
      "1/1 [==============================] - 0s 13ms/step\n",
      "1/1 [==============================] - 0s 14ms/step\n",
      "1/1 [==============================] - 0s 14ms/step\n",
      "1/1 [==============================] - 0s 13ms/step\n",
      "1/1 [==============================] - 0s 13ms/step\n",
      "1/1 [==============================] - 0s 14ms/step\n",
      "1/1 [==============================] - 0s 14ms/step\n",
      "예측 요약 :  to crore in crore in india\n",
      "\n",
      "\n",
      "원문 : italian design firm carlo developed writing robot draw erase images uploaded user smartphone vertical surface like wall draw erase draw images takes around minutes based image complexity priced device expected ship end year \n",
      "실제 요약 : robot draws images from user phone on wall in minutes \n",
      "1/1 [==============================] - 0s 20ms/step\n",
      "1/1 [==============================] - 0s 14ms/step\n",
      "1/1 [==============================] - 0s 14ms/step\n",
      "1/1 [==============================] - 0s 13ms/step\n",
      "1/1 [==============================] - 0s 13ms/step\n",
      "1/1 [==============================] - 0s 14ms/step\n",
      "1/1 [==============================] - 0s 14ms/step\n",
      "1/1 [==============================] - 0s 13ms/step\n",
      "1/1 [==============================] - 0s 13ms/step\n",
      "1/1 [==============================] - 0s 14ms/step\n",
      "예측 요약 :  scientists develop ai to detect hand with accuracy\n",
      "\n",
      "\n",
      "원문 : rajinikanth akshay kumar starrer leaked online piracy website hours release thursday comes madras high court directed internet service providers block piracy websites including several websites run order passed following plea moved film producers productions \n",
      "실제 요약 : rajinikanth starrer leaked online hours after release \n",
      "1/1 [==============================] - 0s 20ms/step\n",
      "1/1 [==============================] - 0s 13ms/step\n",
      "1/1 [==============================] - 0s 14ms/step\n",
      "1/1 [==============================] - 0s 14ms/step\n",
      "1/1 [==============================] - 0s 13ms/step\n",
      "1/1 [==============================] - 0s 14ms/step\n",
      "1/1 [==============================] - 0s 13ms/step\n",
      "1/1 [==============================] - 0s 13ms/step\n",
      "1/1 [==============================] - 0s 13ms/step\n",
      "1/1 [==============================] - 0s 13ms/step\n",
      "예측 요약 :  akshay kumar to akshay kumar in kumar film reports\n",
      "\n",
      "\n",
      "원문 : asked whether reservation end larger interest nation union minister ramdas athawale replied end rampant casteism prevalent society ready reservation added supports reservation upper castes economically weaker believes inter caste marriages need promoted \n",
      "실제 요약 : end and we will reservation union minister \n",
      "1/1 [==============================] - 0s 19ms/step\n",
      "1/1 [==============================] - 0s 13ms/step\n",
      "1/1 [==============================] - 0s 14ms/step\n",
      "1/1 [==============================] - 0s 14ms/step\n",
      "1/1 [==============================] - 0s 16ms/step\n",
      "1/1 [==============================] - 0s 13ms/step\n",
      "1/1 [==============================] - 0s 13ms/step\n",
      "1/1 [==============================] - 0s 14ms/step\n",
      "예측 요약 :  govt to provide reservation to govt\n",
      "\n",
      "\n",
      "원문 : employee south korean unit general motors found dead suspected suicide filing voluntary police said us carmaker planned shut plant may almost workers applied voluntary package proven would first suicide plant ahead shutdown \n",
      "실제 요약 : gm factory worker in korea found dead in suspected suicide \n",
      "1/1 [==============================] - 0s 20ms/step\n",
      "1/1 [==============================] - 0s 13ms/step\n",
      "1/1 [==============================] - 0s 14ms/step\n",
      "1/1 [==============================] - 0s 16ms/step\n",
      "1/1 [==============================] - 0s 13ms/step\n",
      "1/1 [==============================] - 0s 13ms/step\n",
      "1/1 [==============================] - 0s 14ms/step\n",
      "1/1 [==============================] - 0s 13ms/step\n",
      "1/1 [==============================] - 0s 13ms/step\n",
      "1/1 [==============================] - 0s 13ms/step\n",
      "예측 요약 :  us student kills gun for suicide in korea\n",
      "\n",
      "\n",
      "원문 : french president emmanuel macron thursday launched french tech visa fast track four year residence permit entrepreneurs families talking need reduce regulation become country macron said want entrepreneurs world come france work us possible innovation \n",
      "실제 요약 : french prez macron launches tech visa to tech industry \n",
      "1/1 [==============================] - 0s 22ms/step\n",
      "1/1 [==============================] - 0s 14ms/step\n",
      "1/1 [==============================] - 0s 14ms/step\n",
      "1/1 [==============================] - 0s 13ms/step\n",
      "1/1 [==============================] - 0s 13ms/step\n",
      "1/1 [==============================] - 0s 13ms/step\n",
      "1/1 [==============================] - 0s 13ms/step\n",
      "1/1 [==============================] - 0s 13ms/step\n",
      "1/1 [==============================] - 0s 13ms/step\n",
      "예측 요약 :  french prez macron calls for french prez\n",
      "\n",
      "\n",
      "원문 : veteran actor chakraborty currently undergoing treatment chronic hospital los angeles started recovering expected return india soon reports suggested actor reportedly suffered first stunt film lucky undergone treatment \n",
      "실제 요약 : recovering amid treatment in us hospital reports \n",
      "1/1 [==============================] - 0s 19ms/step\n",
      "1/1 [==============================] - 0s 13ms/step\n",
      "1/1 [==============================] - 0s 13ms/step\n",
      "1/1 [==============================] - 0s 14ms/step\n",
      "1/1 [==============================] - 0s 13ms/step\n",
      "1/1 [==============================] - 0s 13ms/step\n",
      "예측 요약 :  to be at oscars\n",
      "\n",
      "\n",
      "원문 : bihar bjp president rai said people state cast sympathy votes rashtriya janata dal bihar assembly seat lok sabha constituency added bjp certainly win elections meanwhile bjp candidate rani pandey state assembly constituency \n",
      "실제 요약 : bihar has given votes bjp on losing to rjd \n",
      "1/1 [==============================] - 0s 20ms/step\n",
      "1/1 [==============================] - 0s 14ms/step\n",
      "1/1 [==============================] - 0s 13ms/step\n",
      "1/1 [==============================] - 0s 13ms/step\n",
      "1/1 [==============================] - 0s 14ms/step\n",
      "1/1 [==============================] - 0s 13ms/step\n",
      "1/1 [==============================] - 0s 13ms/step\n",
      "1/1 [==============================] - 0s 13ms/step\n",
      "1/1 [==============================] - 0s 14ms/step\n",
      "1/1 [==============================] - 0s 13ms/step\n",
      "예측 요약 :  bjp will not contest bjp on bjp mla\n",
      "\n",
      "\n",
      "원문 : telecom industry body coai said issues jio could resolved dialogue lawsuit association makes good relationship difficult member jio sued coai director general rajan mathews defamation coai press statement september said jio entered sector back door operator \n",
      "실제 요약 : relationship becomes tough when member sues us on jio \n",
      "1/1 [==============================] - 0s 19ms/step\n",
      "1/1 [==============================] - 0s 14ms/step\n",
      "1/1 [==============================] - 0s 16ms/step\n",
      "1/1 [==============================] - 0s 13ms/step\n",
      "1/1 [==============================] - 0s 13ms/step\n",
      "1/1 [==============================] - 0s 14ms/step\n",
      "1/1 [==============================] - 0s 14ms/step\n",
      "1/1 [==============================] - 0s 14ms/step\n",
      "1/1 [==============================] - 0s 13ms/step\n",
      "1/1 [==============================] - 0s 14ms/step\n",
      "예측 요약 :  no regulator to buy govt for not paying\n",
      "\n",
      "\n",
      "원문 : indian railways transported freight load million tonnes highest ever load transported railways ministry officials revealed officials revealed freight loading railways growing last five years freight transportation major source revenue railways accounting income \n",
      "실제 요약 : railways highest ever in \n",
      "1/1 [==============================] - 0s 20ms/step\n",
      "1/1 [==============================] - 0s 13ms/step\n",
      "1/1 [==============================] - 0s 13ms/step\n",
      "1/1 [==============================] - 0s 14ms/step\n",
      "1/1 [==============================] - 0s 13ms/step\n",
      "1/1 [==============================] - 0s 13ms/step\n",
      "1/1 [==============================] - 0s 13ms/step\n",
      "1/1 [==============================] - 0s 14ms/step\n",
      "1/1 [==============================] - 0s 13ms/step\n",
      "1/1 [==============================] - 0s 13ms/step\n",
      "예측 요약 :  railways to spend million to improve air india\n",
      "\n",
      "\n",
      "원문 : rbi revealed demonetised notes back banking system congress leader shashi tharoor said government answer people made suffer meanwhile claimed din people getting money ones spending \n",
      "실제 요약 : why were people made to suffer during demonetisation tharoor \n",
      "1/1 [==============================] - 0s 19ms/step\n",
      "1/1 [==============================] - 0s 14ms/step\n",
      "1/1 [==============================] - 0s 13ms/step\n",
      "1/1 [==============================] - 0s 13ms/step\n",
      "1/1 [==============================] - 0s 14ms/step\n",
      "1/1 [==============================] - 0s 14ms/step\n",
      "1/1 [==============================] - 0s 13ms/step\n",
      "1/1 [==============================] - 0s 14ms/step\n",
      "1/1 [==============================] - 0s 16ms/step\n",
      "1/1 [==============================] - 0s 13ms/step\n",
      "예측 요약 :  rbi wants to rbi on politics of notes\n",
      "\n",
      "\n",
      "원문 : video shows puducherry lieutenant governor kiran bedi aiadmk mla arguing stage government function argument reportedly broke criticised bedi puducherry administration speech mike turned however according bedi mike turned mla refused limit speech \n",
      "실제 요약 : puducherry kiran bedi mla on stage at govt function \n",
      "1/1 [==============================] - 0s 19ms/step\n",
      "1/1 [==============================] - 0s 14ms/step\n",
      "1/1 [==============================] - 0s 13ms/step\n",
      "1/1 [==============================] - 0s 14ms/step\n",
      "1/1 [==============================] - 0s 13ms/step\n",
      "1/1 [==============================] - 0s 14ms/step\n",
      "1/1 [==============================] - 0s 13ms/step\n",
      "1/1 [==============================] - 0s 13ms/step\n",
      "1/1 [==============================] - 0s 13ms/step\n",
      "1/1 [==============================] - 0s 15ms/step\n",
      "예측 요약 :  aap leader threatens to join jayalalithaa in gujarat\n",
      "\n",
      "\n",
      "원문 : light ongoing protests movie padmaavat mall haryana gurugram district stated mall security people come without fear meanwhile section code criminal procedure imposed around multiplexes cinema halls district ahead film release \n",
      "실제 요약 : come watch padmaavat without fear gurugram mall \n",
      "1/1 [==============================] - 0s 21ms/step\n",
      "1/1 [==============================] - 0s 13ms/step\n",
      "1/1 [==============================] - 0s 13ms/step\n",
      "1/1 [==============================] - 0s 14ms/step\n",
      "1/1 [==============================] - 0s 13ms/step\n",
      "1/1 [==============================] - 0s 14ms/step\n",
      "1/1 [==============================] - 0s 14ms/step\n",
      "1/1 [==============================] - 0s 14ms/step\n",
      "예측 요약 :  rajinikanth to launch in gurugram protests\n",
      "\n",
      "\n",
      "원문 : former jammu kashmir cm omar abdullah trolled us president donald trump word heal latter tweeted texas fast thanks great men women working hard trump made several spelling mistakes twitter recently writing instead instead \n",
      "실제 요약 : omar abdullah trolls donald trump for \n",
      "1/1 [==============================] - 0s 19ms/step\n",
      "1/1 [==============================] - 0s 13ms/step\n",
      "1/1 [==============================] - 0s 14ms/step\n",
      "1/1 [==============================] - 0s 14ms/step\n",
      "1/1 [==============================] - 0s 13ms/step\n",
      "1/1 [==============================] - 0s 13ms/step\n",
      "1/1 [==============================] - 0s 14ms/step\n",
      "1/1 [==============================] - 0s 14ms/step\n",
      "예측 요약 :  video shows trump who trolled him\n",
      "\n",
      "\n",
      "원문 : like switch daily along planet according georgia tech study unlike earth sideways magnetic field axis tilt causes open close solar winds hour full rotation \n",
      "실제 요약 : magnetic field daily like switch study \n",
      "1/1 [==============================] - 0s 19ms/step\n",
      "1/1 [==============================] - 0s 14ms/step\n",
      "1/1 [==============================] - 0s 13ms/step\n",
      "1/1 [==============================] - 0s 14ms/step\n",
      "1/1 [==============================] - 0s 13ms/step\n",
      "1/1 [==============================] - 0s 14ms/step\n",
      "1/1 [==============================] - 0s 14ms/step\n",
      "1/1 [==============================] - 0s 13ms/step\n",
      "예측 요약 :  human human is may be study\n",
      "\n",
      "\n",
      "원문 : union minister state finance arjun ram thursday said lakh new taxpayers added demonetisation demonetisation promoted digital economy increased digital transaction hurt shadow economy said added history would written would remembered year economic reforms \n",
      "실제 요약 : demonetisation added lakh new taxpayers govt \n",
      "1/1 [==============================] - 0s 20ms/step\n",
      "1/1 [==============================] - 0s 15ms/step\n",
      "1/1 [==============================] - 0s 16ms/step\n",
      "1/1 [==============================] - 0s 14ms/step\n",
      "1/1 [==============================] - 0s 13ms/step\n",
      "1/1 [==============================] - 0s 14ms/step\n",
      "1/1 [==============================] - 0s 13ms/step\n",
      "1/1 [==============================] - 0s 13ms/step\n",
      "1/1 [==============================] - 0s 13ms/step\n",
      "1/1 [==============================] - 0s 14ms/step\n",
      "예측 요약 :  demonetisation has no for demonetisation says union minister\n",
      "\n",
      "\n",
      "원문 : village germany sold crore auction berlin village houses people part east germany germany winner wants something good purchase welfare people live auction house said \n",
      "실제 요약 : german village with people sold for crore \n",
      "1/1 [==============================] - 0s 19ms/step\n",
      "1/1 [==============================] - 0s 13ms/step\n",
      "1/1 [==============================] - 0s 13ms/step\n",
      "1/1 [==============================] - 0s 13ms/step\n",
      "1/1 [==============================] - 0s 13ms/step\n",
      "1/1 [==============================] - 0s 14ms/step\n",
      "1/1 [==============================] - 0s 14ms/step\n",
      "예측 요약 :  to get crore for crore\n",
      "\n",
      "\n",
      "원문 : indian premier league franchise delhi daredevils renamed delhi ahead indian premier league season wanted name mean something everyone delhi jindal co owner franchise said sports bought ownership stake team earlier year \n",
      "실제 요약 : delhi daredevils renamed as delhi ahead of ipl season \n",
      "1/1 [==============================] - 0s 19ms/step\n",
      "1/1 [==============================] - 0s 13ms/step\n",
      "1/1 [==============================] - 0s 14ms/step\n",
      "1/1 [==============================] - 0s 14ms/step\n",
      "1/1 [==============================] - 0s 14ms/step\n",
      "1/1 [==============================] - 0s 13ms/step\n",
      "1/1 [==============================] - 0s 14ms/step\n",
      "1/1 [==============================] - 0s 14ms/step\n",
      "1/1 [==============================] - 0s 13ms/step\n",
      "1/1 [==============================] - 0s 13ms/step\n",
      "예측 요약 :  ipl team named ipl best coach for ipl\n",
      "\n",
      "\n",
      "원문 : mumbai traffic police banned parking vehicles streets south mumbai bid area lakh vehicles lakh four wheelers south mumbai parking space police officials said parking reportedly allowed two brihanmumbai municipal corporation pay park areas near cadbury junction \n",
      "실제 요약 : parking banned on south mumbai streets \n",
      "1/1 [==============================] - 0s 20ms/step\n",
      "1/1 [==============================] - 0s 14ms/step\n",
      "1/1 [==============================] - 0s 13ms/step\n",
      "1/1 [==============================] - 0s 14ms/step\n",
      "1/1 [==============================] - 0s 14ms/step\n",
      "1/1 [==============================] - 0s 13ms/step\n",
      "1/1 [==============================] - 0s 13ms/step\n",
      "1/1 [==============================] - 0s 15ms/step\n",
      "1/1 [==============================] - 0s 14ms/step\n",
      "1/1 [==============================] - 0s 13ms/step\n",
      "예측 요약 :  mumbai police to install cctv cameras on mumbai\n",
      "\n",
      "\n",
      "원문 : public interest litigation filed member hindu party hindu makkal actor kamal haasan alleged derogatory remarks mahabharata earlier police complaint filed party haasan commented mahabharata talks woman used away \n",
      "실제 요약 : pil filed against kamal haasan for remarks on mahabharata \n",
      "1/1 [==============================] - 0s 20ms/step\n",
      "1/1 [==============================] - 0s 14ms/step\n",
      "1/1 [==============================] - 0s 14ms/step\n",
      "1/1 [==============================] - 0s 13ms/step\n",
      "1/1 [==============================] - 0s 13ms/step\n",
      "1/1 [==============================] - 0s 14ms/step\n",
      "1/1 [==============================] - 0s 13ms/step\n",
      "1/1 [==============================] - 0s 13ms/step\n",
      "1/1 [==============================] - 0s 14ms/step\n",
      "1/1 [==============================] - 0s 13ms/step\n",
      "예측 요약 :  bigg boss contestant sacked for harassment in bigg boss\n",
      "\n",
      "\n",
      "원문 : recent report international ngo global witness claimed people killed last year protecting land water wildlife communities several industries among countries documented brazil saw murders india ranked fourth report calls accountability abuses activists specific laws \n",
      "실제 요약 : saw record killings of report \n",
      "1/1 [==============================] - 0s 20ms/step\n",
      "1/1 [==============================] - 0s 13ms/step\n",
      "1/1 [==============================] - 0s 14ms/step\n",
      "1/1 [==============================] - 0s 14ms/step\n",
      "1/1 [==============================] - 0s 13ms/step\n",
      "1/1 [==============================] - 0s 13ms/step\n",
      "1/1 [==============================] - 0s 17ms/step\n",
      "1/1 [==============================] - 0s 13ms/step\n",
      "1/1 [==============================] - 0s 13ms/step\n",
      "예측 요약 :  us kills people for most flu in\n",
      "\n",
      "\n",
      "원문 : opposition parties including dmk congress monday staged walkout tamil nadu governor banwarilal purohit maiden address state assembly accusing governor allowing minority government remain office parties demanded hold floor test ascertain ruling aiadmk majority legislature following disqualification aiadmk mlas \n",
      "실제 요약 : opposition boycotts tn governor maiden address in assembly \n",
      "1/1 [==============================] - 0s 23ms/step\n",
      "1/1 [==============================] - 0s 14ms/step\n",
      "1/1 [==============================] - 0s 13ms/step\n",
      "1/1 [==============================] - 0s 13ms/step\n",
      "1/1 [==============================] - 0s 14ms/step\n",
      "1/1 [==============================] - 0s 14ms/step\n",
      "1/1 [==============================] - 0s 13ms/step\n",
      "1/1 [==============================] - 0s 13ms/step\n",
      "예측 요약 :  cong releases in tripura after days\n",
      "\n",
      "\n",
      "원문 : aap mla alka lamba tuesday tweeted pictures showed crying watching news crisis syria asking un protect syrian children god sake said could see children pain mother want help today future added \n",
      "실제 요약 : aap mla tweets pics of herself crying over syrian crisis \n",
      "1/1 [==============================] - 0s 20ms/step\n",
      "1/1 [==============================] - 0s 14ms/step\n",
      "1/1 [==============================] - 0s 13ms/step\n",
      "1/1 [==============================] - 0s 15ms/step\n",
      "1/1 [==============================] - 0s 15ms/step\n",
      "1/1 [==============================] - 0s 13ms/step\n",
      "1/1 [==============================] - 0s 13ms/step\n",
      "1/1 [==============================] - 0s 14ms/step\n",
      "1/1 [==============================] - 0s 14ms/step\n",
      "1/1 [==============================] - 0s 13ms/step\n",
      "예측 요약 :  cannot love to use rohingyas to rohingyas bjp mla\n",
      "\n",
      "\n",
      "원문 : judge brazil ordered prevent venezuelan immigrants entering country border state judge ordered suspend entry venezuelan immigrants conditions humanitarian reception created venezuelan immigrants fleeing political economic crisis home country \n",
      "실제 요약 : brazil judge orders to close border to venezuelan immigrants \n",
      "1/1 [==============================] - 0s 20ms/step\n",
      "1/1 [==============================] - 0s 14ms/step\n",
      "1/1 [==============================] - 0s 13ms/step\n",
      "1/1 [==============================] - 0s 13ms/step\n",
      "1/1 [==============================] - 0s 14ms/step\n",
      "1/1 [==============================] - 0s 14ms/step\n",
      "1/1 [==============================] - 0s 14ms/step\n",
      "1/1 [==============================] - 0s 13ms/step\n",
      "1/1 [==============================] - 0s 14ms/step\n",
      "예측 요약 :  us court imposes fine on rohingya crisis\n",
      "\n",
      "\n",
      "원문 : actor salman khan father salim khan tweeted pray safe return kulbhushan jadhav indian national sentenced death pakistan spying quoting prophet muhammad added kill innocent equivalent killing entire humanity jadhav reportedly arrested march last year balochistan \n",
      "실제 요약 : let us pray for kulbhushan safe return salman father \n",
      "1/1 [==============================] - 0s 19ms/step\n",
      "1/1 [==============================] - 0s 13ms/step\n",
      "1/1 [==============================] - 0s 15ms/step\n",
      "1/1 [==============================] - 0s 14ms/step\n",
      "1/1 [==============================] - 0s 14ms/step\n",
      "1/1 [==============================] - 0s 13ms/step\n",
      "1/1 [==============================] - 0s 13ms/step\n",
      "1/1 [==============================] - 0s 14ms/step\n",
      "1/1 [==============================] - 0s 14ms/step\n",
      "1/1 [==============================] - 0s 13ms/step\n",
      "예측 요약 :  salman khan is not kulbhushan jadhav on salman khan\n",
      "\n",
      "\n",
      "원문 : yogi adityanath led uttar pradesh government ordered withdrawal case dozen others including union minister shiv pratap shukla bjp mla pandey case lodged holding meeting violation prohibitory orders gorakhpur warrants issued despite court orders prosecution officer said \n",
      "실제 요약 : yogi govt orders withdrawal of yr old case against yogi \n",
      "1/1 [==============================] - 0s 22ms/step\n",
      "1/1 [==============================] - 0s 16ms/step\n",
      "1/1 [==============================] - 0s 18ms/step\n",
      "1/1 [==============================] - 0s 14ms/step\n",
      "1/1 [==============================] - 0s 13ms/step\n",
      "1/1 [==============================] - 0s 14ms/step\n",
      "1/1 [==============================] - 0s 14ms/step\n",
      "1/1 [==============================] - 0s 13ms/step\n",
      "1/1 [==============================] - 0s 13ms/step\n",
      "1/1 [==============================] - 0s 16ms/step\n",
      "예측 요약 :  up govt mlas to withdraw action against bjp mlas\n",
      "\n",
      "\n",
      "원문 : clothing brand project launched pair jeans priced transformed shorts jeans available blue white black feature set buttons lower part jeans upper part company named garment transformer cotton denim jean \n",
      "실제 요약 : clothing brand launches jeans at \n",
      "1/1 [==============================] - 0s 21ms/step\n",
      "1/1 [==============================] - 0s 14ms/step\n",
      "1/1 [==============================] - 0s 14ms/step\n",
      "1/1 [==============================] - 0s 16ms/step\n",
      "1/1 [==============================] - 0s 17ms/step\n",
      "1/1 [==============================] - 0s 14ms/step\n",
      "예측 요약 :  launches its first ever\n",
      "\n",
      "\n",
      "원문 : maharashtra government pay crore toll operators mumbai pune expressway state highways toll booths operated maharashtra state road development corporation compensation revenue losses suffered toll operators suffered losses government exempted passengers paying toll november november due demonetisation \n",
      "실제 요약 : maha govt to pay compensation of cr to toll contractors \n",
      "1/1 [==============================] - 0s 20ms/step\n",
      "1/1 [==============================] - 0s 14ms/step\n",
      "1/1 [==============================] - 0s 14ms/step\n",
      "1/1 [==============================] - 0s 14ms/step\n",
      "1/1 [==============================] - 0s 14ms/step\n",
      "1/1 [==============================] - 0s 14ms/step\n",
      "1/1 [==============================] - 0s 15ms/step\n",
      "1/1 [==============================] - 0s 15ms/step\n",
      "1/1 [==============================] - 0s 14ms/step\n",
      "예측 요약 :  maha floods lose crore in maharashtra floods\n",
      "\n",
      "\n",
      "원문 : jammu kashmir liberation front chief yasin malik threatened launch protest nia arrested thursday srinagar malik reportedly kept central jail september comes amid nia raids arrests people allegedly indulging hawala operations using money funding separatist activities \n",
      "실제 요약 : kashmiri separatist leader malik arrested by nia \n",
      "1/1 [==============================] - 0s 19ms/step\n",
      "1/1 [==============================] - 0s 14ms/step\n",
      "1/1 [==============================] - 0s 15ms/step\n",
      "1/1 [==============================] - 0s 15ms/step\n",
      "1/1 [==============================] - 0s 14ms/step\n",
      "1/1 [==============================] - 0s 15ms/step\n",
      "1/1 [==============================] - 0s 14ms/step\n",
      "1/1 [==============================] - 0s 14ms/step\n",
      "1/1 [==============================] - 0s 13ms/step\n",
      "예측 요약 :  hizbul officer arrested for security in kashmir\n",
      "\n",
      "\n",
      "원문 : mumbai based startup developing energy system claims last times longer lithium ion batteries system able charge seconds startup claims founded institute management studies graduates jubin \n",
      "실제 요약 : firm making batteries that run times longer than \n",
      "1/1 [==============================] - 0s 19ms/step\n",
      "1/1 [==============================] - 0s 14ms/step\n",
      "1/1 [==============================] - 0s 14ms/step\n",
      "1/1 [==============================] - 0s 14ms/step\n",
      "1/1 [==============================] - 0s 14ms/step\n",
      "1/1 [==============================] - 0s 14ms/step\n",
      "1/1 [==============================] - 0s 13ms/step\n",
      "1/1 [==============================] - 0s 13ms/step\n",
      "1/1 [==============================] - 0s 14ms/step\n",
      "예측 요약 :  startup makes that can deliver charge for\n",
      "\n",
      "\n",
      "원문 : police goa instructed arrest people drinking open book section indian penal code decision taken meeting attended representatives tourism sector general public police officials notably drinking public places tourist state already banned \n",
      "실제 요약 : police to arrest people drinking in open in goa \n",
      "1/1 [==============================] - 0s 19ms/step\n",
      "1/1 [==============================] - 0s 14ms/step\n",
      "1/1 [==============================] - 0s 14ms/step\n",
      "1/1 [==============================] - 0s 15ms/step\n",
      "1/1 [==============================] - 0s 14ms/step\n",
      "1/1 [==============================] - 0s 13ms/step\n",
      "1/1 [==============================] - 0s 13ms/step\n",
      "1/1 [==============================] - 0s 14ms/step\n",
      "1/1 [==============================] - 0s 13ms/step\n",
      "예측 요약 :  up police to get up for students\n",
      "\n",
      "\n",
      "원문 : puducherry chief minister narayanasamy saturday claimed lieutenant governor kiran bedi functions like leader opposition administrator accused bedi contributing economic development union territory implementation progressive schemes added warned bedi constitutional statutory limits \n",
      "실제 요약 : bedi acting more like opposition leader puducherry cm \n",
      "1/1 [==============================] - 0s 20ms/step\n",
      "1/1 [==============================] - 0s 14ms/step\n",
      "1/1 [==============================] - 0s 14ms/step\n",
      "1/1 [==============================] - 0s 13ms/step\n",
      "1/1 [==============================] - 0s 13ms/step\n",
      "1/1 [==============================] - 0s 15ms/step\n",
      "1/1 [==============================] - 0s 14ms/step\n",
      "1/1 [==============================] - 0s 13ms/step\n",
      "1/1 [==============================] - 0s 14ms/step\n",
      "1/1 [==============================] - 0s 14ms/step\n",
      "예측 요약 :  will not be delhi cm on delhi cm parrikar\n",
      "\n",
      "\n",
      "원문 : bloomberg reporter revealed officials pentagon us federal emergency management agency mistakenly added internal list last month emails talked presentation puerto rico recovery efforts media reflected federal government struggle convince public response effort going well \n",
      "실제 요약 : pentagon mistakenly adds reporter to internal list \n",
      "1/1 [==============================] - 0s 20ms/step\n",
      "1/1 [==============================] - 0s 13ms/step\n",
      "1/1 [==============================] - 0s 13ms/step\n",
      "1/1 [==============================] - 0s 14ms/step\n",
      "1/1 [==============================] - 0s 14ms/step\n",
      "1/1 [==============================] - 0s 13ms/step\n",
      "1/1 [==============================] - 0s 14ms/step\n",
      "1/1 [==============================] - 0s 15ms/step\n",
      "1/1 [==============================] - 0s 14ms/step\n",
      "1/1 [==============================] - 0s 14ms/step\n",
      "예측 요약 :  us man admits to fly over us troops\n",
      "\n",
      "\n",
      "원문 : years levi built quality jeans men comfort wide range body types levi continues legacy introducing modern fit slim jeans go slim thigh leg worn sneakers dress shoes \n",
      "실제 요약 : launches an on trend modern fit jeans \n",
      "1/1 [==============================] - 0s 20ms/step\n",
      "1/1 [==============================] - 0s 13ms/step\n",
      "1/1 [==============================] - 0s 14ms/step\n",
      "1/1 [==============================] - 0s 13ms/step\n",
      "1/1 [==============================] - 0s 13ms/step\n",
      "1/1 [==============================] - 0s 14ms/step\n",
      "예측 요약 :  new zealand launches course\n",
      "\n",
      "\n",
      "원문 : nawazuddin siddiqui said never expected rajkumar hirani become great filmmaker india world statement comes hirani said never expected nawazuddin become huge star working munna bhai mbbs nawazuddin said hirani shy person worked \n",
      "실제 요약 : never expected hirani to become great filmmaker nawazuddin \n",
      "1/1 [==============================] - 0s 20ms/step\n",
      "1/1 [==============================] - 0s 13ms/step\n",
      "1/1 [==============================] - 0s 14ms/step\n",
      "1/1 [==============================] - 0s 14ms/step\n",
      "1/1 [==============================] - 0s 13ms/step\n",
      "1/1 [==============================] - 0s 13ms/step\n",
      "1/1 [==============================] - 0s 14ms/step\n",
      "1/1 [==============================] - 0s 14ms/step\n",
      "1/1 [==============================] - 0s 14ms/step\n",
      "예측 요약 :  nawazuddin is not doing an film nawazuddin\n",
      "\n",
      "\n",
      "원문 : south delhi municipal corporation collected crore use conversion charges traders december january payments made avoid sealing restaurants upper floors restaurants defence colony sealed unauthorised construction use conversion charge paid residential premises mixed use intended mixed use \n",
      "실제 요약 : crore collected from delhi traders in sealing drive \n",
      "1/1 [==============================] - 0s 20ms/step\n",
      "1/1 [==============================] - 0s 14ms/step\n",
      "1/1 [==============================] - 0s 13ms/step\n",
      "1/1 [==============================] - 0s 13ms/step\n",
      "1/1 [==============================] - 0s 13ms/step\n",
      "1/1 [==============================] - 0s 13ms/step\n",
      "1/1 [==============================] - 0s 13ms/step\n",
      "1/1 [==============================] - 0s 13ms/step\n",
      "1/1 [==============================] - 0s 14ms/step\n",
      "1/1 [==============================] - 0s 14ms/step\n",
      "예측 요약 :  delhi civic body to be installed in gurugram\n",
      "\n",
      "\n",
      "원문 : recreated version prabhudeva song urvashi tamil film featuring shahid kapoor kiara advani released sung composed written yo yo honey singh song recreated hindi remake telugu film arjun reddy talking kiara said could ode prabhu sir \n",
      "실제 요약 : recreated urvashi song featuring shahid kiara released \n",
      "1/1 [==============================] - 0s 19ms/step\n",
      "1/1 [==============================] - 0s 14ms/step\n",
      "1/1 [==============================] - 0s 14ms/step\n",
      "1/1 [==============================] - 0s 13ms/step\n",
      "1/1 [==============================] - 0s 13ms/step\n",
      "1/1 [==============================] - 0s 14ms/step\n",
      "1/1 [==============================] - 0s 14ms/step\n",
      "1/1 [==============================] - 0s 13ms/step\n",
      "예측 요약 :  recreated for song from the song\n",
      "\n",
      "\n",
      "원문 : lg electronics announced replacing president mobile business one year replaced brian head lg home entertainment business december comes lg mobile business posted loss million year including million net loss last quarter \n",
      "실제 요약 : lg replaces its mobile business president after year \n",
      "1/1 [==============================] - 0s 19ms/step\n",
      "1/1 [==============================] - 0s 14ms/step\n",
      "1/1 [==============================] - 0s 13ms/step\n",
      "1/1 [==============================] - 0s 13ms/step\n",
      "1/1 [==============================] - 0s 13ms/step\n",
      "1/1 [==============================] - 0s 14ms/step\n",
      "1/1 [==============================] - 0s 13ms/step\n",
      "1/1 [==============================] - 0s 13ms/step\n",
      "1/1 [==============================] - 0s 15ms/step\n",
      "예측 요약 :  india india to launch gst at india\n",
      "\n",
      "\n",
      "원문 : stating us seems forgotten dangers coming al qaeda islamic state russian foreign ministry said country considers iran greater threat terrorists claiming current revenues al qaeda exceed isis ministry said us tries put militant groups back \n",
      "실제 요약 : us on iran has al qaeda isis russia \n",
      "1/1 [==============================] - 0s 19ms/step\n",
      "1/1 [==============================] - 0s 13ms/step\n",
      "1/1 [==============================] - 0s 13ms/step\n",
      "1/1 [==============================] - 0s 14ms/step\n",
      "1/1 [==============================] - 0s 13ms/step\n",
      "1/1 [==============================] - 0s 13ms/step\n",
      "1/1 [==============================] - 0s 14ms/step\n",
      "1/1 [==============================] - 0s 14ms/step\n",
      "1/1 [==============================] - 0s 13ms/step\n",
      "예측 요약 :  us to fight against isis in syria\n",
      "\n",
      "\n",
      "원문 : least people burnt death dozen others injured fire broke fair price ration shop madhya pradesh chhindwara district friday incident took place kerosene distributed building state government said announced lakh ex gratia deceased kin \n",
      "실제 요약 : burnt to death during distribution at shop in mp \n",
      "1/1 [==============================] - 0s 19ms/step\n",
      "1/1 [==============================] - 0s 14ms/step\n",
      "1/1 [==============================] - 0s 13ms/step\n",
      "1/1 [==============================] - 0s 13ms/step\n",
      "1/1 [==============================] - 0s 14ms/step\n",
      "1/1 [==============================] - 0s 14ms/step\n",
      "1/1 [==============================] - 0s 13ms/step\n",
      "1/1 [==============================] - 0s 13ms/step\n",
      "1/1 [==============================] - 0s 14ms/step\n",
      "1/1 [==============================] - 0s 14ms/step\n",
      "예측 요약 :  killed injured in explosion at people in afghanistan\n",
      "\n",
      "\n",
      "원문 : prime minister narendra modi bangladeshi counterpart sheikh hasina saturday flagged trial run passenger train service kolkata bangladesh named express second passenger train india bangladesh regular service kolkata station commence july railway officials said \n",
      "실제 요약 : modi flag off trial run of india bangladesh train \n",
      "1/1 [==============================] - 0s 19ms/step\n",
      "1/1 [==============================] - 0s 13ms/step\n",
      "1/1 [==============================] - 0s 13ms/step\n",
      "1/1 [==============================] - 0s 13ms/step\n",
      "1/1 [==============================] - 0s 15ms/step\n",
      "1/1 [==============================] - 0s 14ms/step\n",
      "1/1 [==============================] - 0s 14ms/step\n",
      "1/1 [==============================] - 0s 15ms/step\n",
      "1/1 [==============================] - 0s 13ms/step\n",
      "예측 요약 :  pm modi inaugurates train train in mumbai\n"
     ]
    }
   ],
   "source": [
    "for i in range(50, 100):\n",
    "    print(\"원문 :\", seq2text(encoder_input_test[i]))\n",
    "    print(\"실제 요약 :\", seq2headlines(decoder_input_test[i]))\n",
    "    print(\"예측 요약 :\", decode_sequence(encoder_input_test[i].reshape(1, text_max_len)))\n",
    "    print(\"\\n\")"
   ],
   "metadata": {
    "collapsed": false,
    "ExecuteTime": {
     "end_time": "2023-09-14T05:14:10.432604Z",
     "start_time": "2023-09-14T05:13:54.566266Z"
    }
   },
   "id": "72714b002c3b85e9"
  },
  {
   "cell_type": "markdown",
   "source": [
    "## 추출적 요약 해보기"
   ],
   "metadata": {
    "collapsed": false
   },
   "id": "8feaeb246bcdac83"
  },
  {
   "cell_type": "markdown",
   "source": [
    "패키지 설치\n",
    "클라우드의 경우 이미 summa 가 설치돼있습니다. 확인해보고 싶으시면 아래 명령어를 Cloud Shell에서 실행해보세요!\n",
    "\n",
    "$ pip list | grep summa"
   ],
   "metadata": {
    "collapsed": false
   },
   "id": "d3274fa88f5afad2"
  },
  {
   "cell_type": "code",
   "execution_count": 111,
   "outputs": [],
   "source": [
    "import requests\n",
    "from summa.summarizer import summarize"
   ],
   "metadata": {
    "collapsed": false,
    "ExecuteTime": {
     "end_time": "2023-09-14T05:15:34.038443Z",
     "start_time": "2023-09-14T05:15:33.993273Z"
    }
   },
   "id": "866645b6f3e8df05"
  },
  {
   "cell_type": "code",
   "execution_count": 114,
   "outputs": [],
   "source": [
    "text = requests.get('http://rare-technologies.com/the_matrix_synopsis.txt').text\n"
   ],
   "metadata": {
    "collapsed": false,
    "ExecuteTime": {
     "end_time": "2023-09-14T07:31:09.103694Z",
     "start_time": "2023-09-14T07:31:08.217542Z"
    }
   },
   "id": "73788006b8f91fb4"
  },
  {
   "cell_type": "code",
   "execution_count": 115,
   "outputs": [
    {
     "name": "stdout",
     "output_type": "stream",
     "text": [
      "The screen is filled with green, cascading code which gives way to the title, The Matrix.\r\n",
      "\r\n",
      "A phone rings and text appears on the screen: \"Call trans opt: received. 2-19-98 13:24:18 REC: Log>\" As a conversation takes place between Trinity (Carrie-Anne Moss) and Cypher (Joe Pantoliano), two free humans, a table of random green numbers are being scanned and individual numbers selected, creating a series of digits not unlike an ordinary phone number, as if a code is being deciphered or a call is being traced.\r\n",
      "\r\n",
      "Trinity discusses some unknown person. Cypher taunts Trinity, suggesting she enjoys watching him. Trinity counters that \"Morpheus (Laurence Fishburne) says he may be 'the One',\" just as the sound of a number being selected alerts Trinity that someone may be tracing their call. She ends the call.\r\n",
      "\r\n",
      "Armed policemen move down a darkened, decrepit hallway in the Heart O' the City Hotel, their flashlight beam bouncing just ahead of them. They come to room 303, kick down the door and find a woman dressed in black, facing away from them. It's Trinity. She brings her hands up from the laptop she's working on at their command.\r\n",
      "\r\n",
      "Outside the hotel a car drives up and three agents appear in neatly pressed black suits. They are Agent Smith (Hugo Weaving), Agent Brown (Paul Goddard), and Agent Jones (Robert Taylor). Agent Smith and the presiding police lieutenant argue. Agent Smith admonishes the policeman that they were given specific orders to contact the agents first, for their\n"
     ]
    }
   ],
   "source": [
    "print(text[:1500])\n"
   ],
   "metadata": {
    "collapsed": false,
    "ExecuteTime": {
     "end_time": "2023-09-14T07:31:16.955706Z",
     "start_time": "2023-09-14T07:31:16.924312Z"
    }
   },
   "id": "ea1d66310e415243"
  },
  {
   "cell_type": "code",
   "execution_count": 116,
   "outputs": [
    {
     "name": "stdout",
     "output_type": "stream",
     "text": [
      "Summary:\n",
      "Morpheus, Trinity, Neo, Apoc, Switch, Mouse and Cypher are jacked into the Matrix.\n",
      "Trinity brings the helicopter down to the floor that Morpheus is on and Neo opens fire on the three Agents.\n"
     ]
    }
   ],
   "source": [
    "print('Summary:')\n",
    "print(summarize(text, ratio=0.005))"
   ],
   "metadata": {
    "collapsed": false,
    "ExecuteTime": {
     "end_time": "2023-09-14T07:31:26.057107Z",
     "start_time": "2023-09-14T07:31:25.465723Z"
    }
   },
   "id": "9254b2ef08096ce5"
  },
  {
   "cell_type": "code",
   "execution_count": 117,
   "outputs": [
    {
     "name": "stdout",
     "output_type": "stream",
     "text": [
      "Summary:\n",
      "['Morpheus, Trinity, Neo, Apoc, Switch, Mouse and Cypher are jacked into the Matrix.', 'Trinity brings the helicopter down to the floor that Morpheus is on and Neo opens fire on the three Agents.']\n"
     ]
    }
   ],
   "source": [
    "print('Summary:')\n",
    "print(summarize(text, ratio=0.005, split=True))"
   ],
   "metadata": {
    "collapsed": false,
    "ExecuteTime": {
     "end_time": "2023-09-14T07:31:34.353804Z",
     "start_time": "2023-09-14T07:31:33.763100Z"
    }
   },
   "id": "54eef108fcbf18"
  },
  {
   "cell_type": "code",
   "execution_count": 118,
   "outputs": [
    {
     "name": "stdout",
     "output_type": "stream",
     "text": [
      "Summary:\n",
      "Trinity takes Neo to Morpheus.\n",
      "Morpheus, Trinity, Neo, Apoc, Switch, Mouse and Cypher are jacked into the Matrix.\n",
      "Trinity brings the helicopter down to the floor that Morpheus is on and Neo opens fire on the three Agents.\n"
     ]
    }
   ],
   "source": [
    "print('Summary:')\n",
    "print(summarize(text, words=50))"
   ],
   "metadata": {
    "collapsed": false,
    "ExecuteTime": {
     "end_time": "2023-09-14T07:31:42.335941Z",
     "start_time": "2023-09-14T07:31:41.771693Z"
    }
   },
   "id": "c395b5c3dfcbf941"
  },
  {
   "cell_type": "code",
   "execution_count": null,
   "outputs": [],
   "source": [],
   "metadata": {
    "collapsed": false
   },
   "id": "68b04b580745c0d9"
  },
  {
   "cell_type": "markdown",
   "source": [],
   "metadata": {
    "collapsed": false
   },
   "id": "66707ea7344c57e5"
  },
  {
   "cell_type": "markdown",
   "source": [],
   "metadata": {
    "collapsed": false
   },
   "id": "5edfd9fa2a8b18f1"
  },
  {
   "cell_type": "markdown",
   "source": [],
   "metadata": {
    "collapsed": false
   },
   "id": "4cdf2b399f76210c"
  },
  {
   "cell_type": "markdown",
   "source": [],
   "metadata": {
    "collapsed": false
   },
   "id": "1298142eb8920dd4"
  },
  {
   "cell_type": "markdown",
   "source": [],
   "metadata": {
    "collapsed": false
   },
   "id": "b718cd530552f40a"
  },
  {
   "cell_type": "markdown",
   "source": [],
   "metadata": {
    "collapsed": false
   },
   "id": "4055cb34439f9508"
  },
  {
   "cell_type": "markdown",
   "source": [],
   "metadata": {
    "collapsed": false
   },
   "id": "b53f795da9124968"
  },
  {
   "cell_type": "markdown",
   "source": [],
   "metadata": {
    "collapsed": false
   },
   "id": "8ca213ac2c012b04"
  },
  {
   "cell_type": "markdown",
   "source": [],
   "metadata": {
    "collapsed": false
   },
   "id": "b0e07502a1c809f4"
  },
  {
   "cell_type": "markdown",
   "source": [],
   "metadata": {
    "collapsed": false
   },
   "id": "4ba68ddf325682a5"
  },
  {
   "cell_type": "markdown",
   "source": [],
   "metadata": {
    "collapsed": false
   },
   "id": "c46e67537301df17"
  },
  {
   "cell_type": "markdown",
   "source": [],
   "metadata": {
    "collapsed": false
   },
   "id": "7a743bf286e10cf4"
  },
  {
   "cell_type": "markdown",
   "source": [],
   "metadata": {
    "collapsed": false
   },
   "id": "c9750a24f0e5ca1e"
  },
  {
   "cell_type": "markdown",
   "source": [],
   "metadata": {
    "collapsed": false
   },
   "id": "f826c0043e0785ca"
  },
  {
   "cell_type": "markdown",
   "source": [],
   "metadata": {
    "collapsed": false
   },
   "id": "da252f8c23245c4e"
  }
 ],
 "metadata": {
  "kernelspec": {
   "display_name": "Python 3",
   "language": "python",
   "name": "python3"
  },
  "language_info": {
   "codemirror_mode": {
    "name": "ipython",
    "version": 2
   },
   "file_extension": ".py",
   "mimetype": "text/x-python",
   "name": "python",
   "nbconvert_exporter": "python",
   "pygments_lexer": "ipython2",
   "version": "2.7.6"
  }
 },
 "nbformat": 4,
 "nbformat_minor": 5
}
